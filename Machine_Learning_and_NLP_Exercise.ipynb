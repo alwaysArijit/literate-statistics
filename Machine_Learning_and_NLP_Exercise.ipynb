{
 "cells": [
  {
   "cell_type": "markdown",
   "metadata": {},
   "source": [
    "# Machine Learning and NLP on Review Dataset #"
   ]
  },
  {
   "cell_type": "markdown",
   "metadata": {},
   "source": [
    "## Introduction ##"
   ]
  },
  {
   "cell_type": "markdown",
   "metadata": {},
   "source": [
    "We will be using the review data set from Kaggle for this exercise. The product we'll focus on this time is a cappuccino cup. The goal of this week is to not only preprocess the data, but to classify reviews as positive or negative based on the review text."
   ]
  },
  {
   "cell_type": "code",
   "execution_count": 15,
   "metadata": {},
   "outputs": [],
   "source": [
    "import nltk\n",
    "import pandas as pd\n",
    "import numpy as np\n",
    "import re\n",
    "import string\n",
    "from sklearn.linear_model import LogisticRegression\n",
    "from sklearn.model_selection import train_test_split\n",
    "from sklearn.feature_extraction.text import CountVectorizer\n",
    "from sklearn.feature_extraction.text import TfidfVectorizer\n",
    "from sklearn.metrics import confusion_matrix\n",
    "from sklearn.metrics import classification_report\n",
    "from sklearn.naive_bayes import MultinomialNB\n",
    "from sklearn.naive_bayes import BernoulliNB"
   ]
  },
  {
   "cell_type": "code",
   "execution_count": 16,
   "metadata": {
    "scrolled": true
   },
   "outputs": [
    {
     "data": {
      "text/html": [
       "<div>\n",
       "<style scoped>\n",
       "    .dataframe tbody tr th:only-of-type {\n",
       "        vertical-align: middle;\n",
       "    }\n",
       "\n",
       "    .dataframe tbody tr th {\n",
       "        vertical-align: top;\n",
       "    }\n",
       "\n",
       "    .dataframe thead th {\n",
       "        text-align: right;\n",
       "    }\n",
       "</style>\n",
       "<table border=\"1\" class=\"dataframe\">\n",
       "  <thead>\n",
       "    <tr style=\"text-align: right;\">\n",
       "      <th></th>\n",
       "      <th>user_id</th>\n",
       "      <th>stars</th>\n",
       "      <th>reviews</th>\n",
       "    </tr>\n",
       "  </thead>\n",
       "  <tbody>\n",
       "    <tr>\n",
       "      <th>0</th>\n",
       "      <td>A2XP9IN4JOMROD</td>\n",
       "      <td>1</td>\n",
       "      <td>I wanted to love this. I was even prepared for...</td>\n",
       "    </tr>\n",
       "    <tr>\n",
       "      <th>1</th>\n",
       "      <td>A2TS09JCXNV1VD</td>\n",
       "      <td>5</td>\n",
       "      <td>Grove Square Cappuccino Cups were excellent. T...</td>\n",
       "    </tr>\n",
       "    <tr>\n",
       "      <th>2</th>\n",
       "      <td>AJ3L5J7GN09SV</td>\n",
       "      <td>2</td>\n",
       "      <td>I bought the Grove Square hazelnut cappuccino ...</td>\n",
       "    </tr>\n",
       "    <tr>\n",
       "      <th>3</th>\n",
       "      <td>A3CZD34ZTUJME7</td>\n",
       "      <td>1</td>\n",
       "      <td>I love my Keurig, and I love most of the Keuri...</td>\n",
       "    </tr>\n",
       "    <tr>\n",
       "      <th>4</th>\n",
       "      <td>AWKN396SHAQGP</td>\n",
       "      <td>1</td>\n",
       "      <td>It's a powdered drink. No filter in k-cup.&lt;br ...</td>\n",
       "    </tr>\n",
       "  </tbody>\n",
       "</table>\n",
       "</div>"
      ],
      "text/plain": [
       "          user_id  stars                                            reviews\n",
       "0  A2XP9IN4JOMROD      1  I wanted to love this. I was even prepared for...\n",
       "1  A2TS09JCXNV1VD      5  Grove Square Cappuccino Cups were excellent. T...\n",
       "2   AJ3L5J7GN09SV      2  I bought the Grove Square hazelnut cappuccino ...\n",
       "3  A3CZD34ZTUJME7      1  I love my Keurig, and I love most of the Keuri...\n",
       "4   AWKN396SHAQGP      1  It's a powdered drink. No filter in k-cup.<br ..."
      ]
     },
     "execution_count": 16,
     "metadata": {},
     "output_type": "execute_result"
    }
   ],
   "source": [
    "data = pd.read_csv('coffee.csv')\n",
    "data.head()"
   ]
  },
  {
   "cell_type": "markdown",
   "metadata": {},
   "source": [
    "## Question 1 ##"
   ]
  },
  {
   "cell_type": "markdown",
   "metadata": {},
   "source": [
    "* Determine how many reviews there are in total.\n",
    "* Determine the percent of 1, 2, 3, 4 and 5 star reviews.\n",
    "* Create a new data set for modeling with the following columns:\n",
    "     - Column 1: 'positive' if review = 4 or 5, and 'negative' if review = 1 or 2\n",
    "     - Column 2: review text\n",
    "* Take a look at the number of positive and negative reviews in the newly created data set.\n",
    "\n",
    "Checkpoint: the resulting data set should have 514 reviews.\n",
    "\n",
    "Use the preprocessing code below to clean the reviews data before moving on to modeling."
   ]
  },
  {
   "cell_type": "code",
   "execution_count": 3,
   "metadata": {},
   "outputs": [
    {
     "data": {
      "text/plain": [
       "542"
      ]
     },
     "execution_count": 3,
     "metadata": {},
     "output_type": "execute_result"
    }
   ],
   "source": [
    "# Number of reviews\n",
    "len(data.reviews)"
   ]
  },
  {
   "cell_type": "code",
   "execution_count": 4,
   "metadata": {},
   "outputs": [
    {
     "name": "stdout",
     "output_type": "stream",
     "text": [
      "Percentage of one_star : 17.71\n",
      "Percentage of two_star : 8.3\n",
      "Percentage of three_star : 5.17\n",
      "Percentage of four_star : 11.99\n",
      "Percentage of five_star : 56.83\n"
     ]
    }
   ],
   "source": [
    "# Percentage distribution of star ratings\n",
    "one_star = 0\n",
    "two_star = 0\n",
    "thr_star = 0\n",
    "fou_star = 0\n",
    "fiv_star = 0\n",
    "\n",
    "for x in range(len(data.reviews)):\n",
    "    if(data.stars[x]==1):\n",
    "        one_star += 1\n",
    "    elif(data.stars[x]==2):\n",
    "        two_star += 1\n",
    "    elif(data.stars[x]==3):\n",
    "        thr_star += 1\n",
    "    elif(data.stars[x]==4):\n",
    "        fou_star += 1\n",
    "    else:\n",
    "        fiv_star += 1\n",
    "\n",
    "print(\"Percentage of one_star : \" + str(round((100 * float(one_star) / len(data.reviews)),2)))\n",
    "print(\"Percentage of two_star : \" + str(round((100 * float(two_star) / len(data.reviews)),2)))\n",
    "print(\"Percentage of three_star : \" + str(round((100 * float(thr_star) / len(data.reviews)),2)))\n",
    "print(\"Percentage of four_star : \" + str(round((100 * float(fou_star) / len(data.reviews)),2)))\n",
    "print(\"Percentage of five_star : \" + str(round((100 * float(fiv_star) / len(data.reviews)),2)))"
   ]
  },
  {
   "cell_type": "code",
   "execution_count": 5,
   "metadata": {},
   "outputs": [
    {
     "name": "stderr",
     "output_type": "stream",
     "text": [
      "/Users/champ/anaconda3/envs/AdvancedText/lib/python2.7/site-packages/ipykernel_launcher.py:7: SettingWithCopyWarning: \n",
      "A value is trying to be set on a copy of a slice from a DataFrame\n",
      "\n",
      "See the caveats in the documentation: http://pandas.pydata.org/pandas-docs/stable/indexing.html#indexing-view-versus-copy\n",
      "  import sys\n",
      "/Users/champ/anaconda3/envs/AdvancedText/lib/python2.7/site-packages/pandas/core/indexing.py:190: SettingWithCopyWarning: \n",
      "A value is trying to be set on a copy of a slice from a DataFrame\n",
      "\n",
      "See the caveats in the documentation: http://pandas.pydata.org/pandas-docs/stable/indexing.html#indexing-view-versus-copy\n",
      "  self._setitem_with_indexer(indexer, value)\n",
      "/Users/champ/anaconda3/envs/AdvancedText/lib/python2.7/site-packages/pandas/core/series.py:1015: SettingWithCopyWarning: \n",
      "A value is trying to be set on a copy of a slice from a DataFrame\n",
      "\n",
      "See the caveats in the documentation: http://pandas.pydata.org/pandas-docs/stable/indexing.html#indexing-view-versus-copy\n",
      "  self.loc[key] = value\n",
      "/Users/champ/anaconda3/envs/AdvancedText/lib/python2.7/site-packages/IPython/core/interactiveshell.py:2878: SettingWithCopyWarning: \n",
      "A value is trying to be set on a copy of a slice from a DataFrame\n",
      "\n",
      "See the caveats in the documentation: http://pandas.pydata.org/pandas-docs/stable/indexing.html#indexing-view-versus-copy\n",
      "  exec(code_obj, self.user_global_ns, self.user_ns)\n"
     ]
    },
    {
     "data": {
      "text/plain": [
       "514"
      ]
     },
     "execution_count": 5,
     "metadata": {},
     "output_type": "execute_result"
    }
   ],
   "source": [
    "# Create a new dataframe with ratings and reviews from the existing dataframe\n",
    "data_mod = data[['stars','reviews']]\n",
    "data_mod.columns = ['ratings', 'reviews']\n",
    "\n",
    "for a in range(len(data_mod.reviews)):\n",
    "    if(data_mod.ratings[a] < 3):\n",
    "        data_mod.ratings[a] = 'negative'\n",
    "    elif(data_mod.ratings[a] > 3):\n",
    "        data_mod.ratings[a] = 'positive'\n",
    "\n",
    "data_mod = data_mod[data_mod.ratings != 3]\n",
    "len(data_mod.reviews)"
   ]
  },
  {
   "cell_type": "code",
   "execution_count": 6,
   "metadata": {},
   "outputs": [
    {
     "data": {
      "text/html": [
       "<div>\n",
       "<style scoped>\n",
       "    .dataframe tbody tr th:only-of-type {\n",
       "        vertical-align: middle;\n",
       "    }\n",
       "\n",
       "    .dataframe tbody tr th {\n",
       "        vertical-align: top;\n",
       "    }\n",
       "\n",
       "    .dataframe thead th {\n",
       "        text-align: right;\n",
       "    }\n",
       "</style>\n",
       "<table border=\"1\" class=\"dataframe\">\n",
       "  <thead>\n",
       "    <tr style=\"text-align: right;\">\n",
       "      <th></th>\n",
       "      <th>ratings</th>\n",
       "      <th>reviews</th>\n",
       "    </tr>\n",
       "  </thead>\n",
       "  <tbody>\n",
       "    <tr>\n",
       "      <th>0</th>\n",
       "      <td>negative</td>\n",
       "      <td>I wanted to love this. I was even prepared for...</td>\n",
       "    </tr>\n",
       "    <tr>\n",
       "      <th>1</th>\n",
       "      <td>positive</td>\n",
       "      <td>Grove Square Cappuccino Cups were excellent. T...</td>\n",
       "    </tr>\n",
       "    <tr>\n",
       "      <th>2</th>\n",
       "      <td>negative</td>\n",
       "      <td>I bought the Grove Square hazelnut cappuccino ...</td>\n",
       "    </tr>\n",
       "    <tr>\n",
       "      <th>3</th>\n",
       "      <td>negative</td>\n",
       "      <td>I love my Keurig, and I love most of the Keuri...</td>\n",
       "    </tr>\n",
       "    <tr>\n",
       "      <th>4</th>\n",
       "      <td>negative</td>\n",
       "      <td>It's a powdered drink. No filter in k-cup.&lt;br ...</td>\n",
       "    </tr>\n",
       "    <tr>\n",
       "      <th>6</th>\n",
       "      <td>negative</td>\n",
       "      <td>don't bother! bet you couldn't tell the differ...</td>\n",
       "    </tr>\n",
       "    <tr>\n",
       "      <th>7</th>\n",
       "      <td>negative</td>\n",
       "      <td>Never tasted this coffee before, I felt much t...</td>\n",
       "    </tr>\n",
       "    <tr>\n",
       "      <th>8</th>\n",
       "      <td>negative</td>\n",
       "      <td>While the overall idea behind the product is l...</td>\n",
       "    </tr>\n",
       "    <tr>\n",
       "      <th>9</th>\n",
       "      <td>positive</td>\n",
       "      <td>I bought a keurig and bought these to try. Wel...</td>\n",
       "    </tr>\n",
       "    <tr>\n",
       "      <th>10</th>\n",
       "      <td>positive</td>\n",
       "      <td>My husband and I LOVE this French Vanilla Capp...</td>\n",
       "    </tr>\n",
       "  </tbody>\n",
       "</table>\n",
       "</div>"
      ],
      "text/plain": [
       "     ratings                                            reviews\n",
       "0   negative  I wanted to love this. I was even prepared for...\n",
       "1   positive  Grove Square Cappuccino Cups were excellent. T...\n",
       "2   negative  I bought the Grove Square hazelnut cappuccino ...\n",
       "3   negative  I love my Keurig, and I love most of the Keuri...\n",
       "4   negative  It's a powdered drink. No filter in k-cup.<br ...\n",
       "6   negative  don't bother! bet you couldn't tell the differ...\n",
       "7   negative  Never tasted this coffee before, I felt much t...\n",
       "8   negative  While the overall idea behind the product is l...\n",
       "9   positive  I bought a keurig and bought these to try. Wel...\n",
       "10  positive  My husband and I LOVE this French Vanilla Capp..."
      ]
     },
     "execution_count": 6,
     "metadata": {},
     "output_type": "execute_result"
    }
   ],
   "source": [
    "data_mod.head(10)"
   ]
  },
  {
   "cell_type": "code",
   "execution_count": 7,
   "metadata": {},
   "outputs": [
    {
     "data": {
      "text/html": [
       "<div>\n",
       "<style scoped>\n",
       "    .dataframe tbody tr th:only-of-type {\n",
       "        vertical-align: middle;\n",
       "    }\n",
       "\n",
       "    .dataframe tbody tr th {\n",
       "        vertical-align: top;\n",
       "    }\n",
       "\n",
       "    .dataframe thead th {\n",
       "        text-align: right;\n",
       "    }\n",
       "</style>\n",
       "<table border=\"1\" class=\"dataframe\">\n",
       "  <thead>\n",
       "    <tr style=\"text-align: right;\">\n",
       "      <th></th>\n",
       "      <th>reviews</th>\n",
       "    </tr>\n",
       "    <tr>\n",
       "      <th>ratings</th>\n",
       "      <th></th>\n",
       "    </tr>\n",
       "  </thead>\n",
       "  <tbody>\n",
       "    <tr>\n",
       "      <th>negative</th>\n",
       "      <td>141</td>\n",
       "    </tr>\n",
       "    <tr>\n",
       "      <th>positive</th>\n",
       "      <td>373</td>\n",
       "    </tr>\n",
       "  </tbody>\n",
       "</table>\n",
       "</div>"
      ],
      "text/plain": [
       "          reviews\n",
       "ratings          \n",
       "negative      141\n",
       "positive      373"
      ]
     },
     "execution_count": 7,
     "metadata": {},
     "output_type": "execute_result"
    }
   ],
   "source": [
    "# Number of positive and negative reviews\n",
    "data_mod.groupby('ratings').count()"
   ]
  },
  {
   "cell_type": "code",
   "execution_count": 17,
   "metadata": {
    "scrolled": false
   },
   "outputs": [
    {
     "data": {
      "text/html": [
       "<div>\n",
       "<style scoped>\n",
       "    .dataframe tbody tr th:only-of-type {\n",
       "        vertical-align: middle;\n",
       "    }\n",
       "\n",
       "    .dataframe tbody tr th {\n",
       "        vertical-align: top;\n",
       "    }\n",
       "\n",
       "    .dataframe thead th {\n",
       "        text-align: right;\n",
       "    }\n",
       "</style>\n",
       "<table border=\"1\" class=\"dataframe\">\n",
       "  <thead>\n",
       "    <tr style=\"text-align: right;\">\n",
       "      <th></th>\n",
       "      <th>ratings</th>\n",
       "      <th>reviews</th>\n",
       "    </tr>\n",
       "  </thead>\n",
       "  <tbody>\n",
       "    <tr>\n",
       "      <th>0</th>\n",
       "      <td>negative</td>\n",
       "      <td>i wanted to love this  i was even prepared for...</td>\n",
       "    </tr>\n",
       "    <tr>\n",
       "      <th>1</th>\n",
       "      <td>positive</td>\n",
       "      <td>grove square cappuccino cups were excellent  t...</td>\n",
       "    </tr>\n",
       "    <tr>\n",
       "      <th>2</th>\n",
       "      <td>negative</td>\n",
       "      <td>i bought the grove square hazelnut cappuccino ...</td>\n",
       "    </tr>\n",
       "    <tr>\n",
       "      <th>3</th>\n",
       "      <td>negative</td>\n",
       "      <td>i love my keurig  and i love most of the keuri...</td>\n",
       "    </tr>\n",
       "    <tr>\n",
       "      <th>4</th>\n",
       "      <td>negative</td>\n",
       "      <td>it s a powdered drink  no filter in k cup  br ...</td>\n",
       "    </tr>\n",
       "  </tbody>\n",
       "</table>\n",
       "</div>"
      ],
      "text/plain": [
       "    ratings                                            reviews\n",
       "0  negative  i wanted to love this  i was even prepared for...\n",
       "1  positive  grove square cappuccino cups were excellent  t...\n",
       "2  negative  i bought the grove square hazelnut cappuccino ...\n",
       "3  negative  i love my keurig  and i love most of the keuri...\n",
       "4  negative  it s a powdered drink  no filter in k cup  br ..."
      ]
     },
     "execution_count": 17,
     "metadata": {},
     "output_type": "execute_result"
    }
   ],
   "source": [
    "# Text preprocessing steps - remove numbers, captial letters and punctuation\n",
    "\n",
    "alphanumeric = lambda x: re.sub(r\"\"\"\\w*\\d\\w*\"\"\", ' ', x)\n",
    "punc_lower = lambda x: re.sub('[%s]' % re.escape(string.punctuation), ' ', x.lower())\n",
    "\n",
    "data_mod['reviews'] = data_mod.reviews.map(alphanumeric).map(punc_lower)\n",
    "data_mod.head()"
   ]
  },
  {
   "cell_type": "markdown",
   "metadata": {},
   "source": [
    "## Question 2 ##"
   ]
  },
  {
   "cell_type": "markdown",
   "metadata": {
    "collapsed": true
   },
   "source": [
    "Prepare the data for modeling:\n",
    "* Split the data into training and test sets. You should have four sets of data - X_train, X_test, y_train, y_test\n",
    "\n",
    "Create numerical features with Count Vectorizer. Create two document-term matrices:\n",
    "* Matrix 1: Terms should be unigrams (single words), and values should be word counts (Hint: this is the Count Vectorizer default)\n",
    "* Matrix 2: Terms should be unigrams and bigrams, and values should be binary values\n",
    "\n",
    "Recommendation: Utilize Count Vectorizer's stop words function to remove stop words from the reviews text."
   ]
  },
  {
   "cell_type": "code",
   "execution_count": 9,
   "metadata": {},
   "outputs": [],
   "source": [
    "X = data_mod.reviews\n",
    "y = data_mod.ratings\n",
    "X_train, X_test, y_train, y_test = train_test_split(X, y, test_size = 0.3, random_state=42)"
   ]
  },
  {
   "cell_type": "code",
   "execution_count": 35,
   "metadata": {},
   "outputs": [
    {
     "name": "stdout",
     "output_type": "stream",
     "text": [
      "(359, 1638)\n",
      "     able  abomination  absolute  absolutely  acceptable  accident  actual  \\\n",
      "0       0            0         0           0           0         0       0   \n",
      "1       0            0         0           0           0         0       0   \n",
      "2       0            0         0           0           0         0       0   \n",
      "3       0            0         0           0           0         0       0   \n",
      "4       0            0         0           0           0         0       0   \n",
      "5       0            0         0           0           0         0       0   \n",
      "6       0            0         0           0           0         0       0   \n",
      "7       0            0         0           0           0         0       0   \n",
      "8       0            0         0           0           0         0       0   \n",
      "9       0            0         0           0           0         0       0   \n",
      "10      0            0         0           1           0         0       0   \n",
      "11      0            0         0           0           0         0       0   \n",
      "12      0            0         0           0           0         0       0   \n",
      "13      0            0         0           0           0         0       0   \n",
      "14      0            0         0           0           0         0       0   \n",
      "15      0            0         0           0           0         0       0   \n",
      "16      0            0         0           0           0         0       0   \n",
      "17      0            0         0           0           0         0       0   \n",
      "18      0            0         0           0           0         0       0   \n",
      "19      0            0         0           0           0         0       0   \n",
      "20      0            0         0           0           0         0       0   \n",
      "21      0            0         0           1           0         0       0   \n",
      "22      0            0         0           0           0         0       0   \n",
      "23      0            0         0           0           0         0       0   \n",
      "24      0            0         0           0           0         0       0   \n",
      "25      0            0         0           0           0         0       0   \n",
      "26      0            0         0           0           0         0       0   \n",
      "27      0            0         0           0           0         0       0   \n",
      "28      0            0         0           0           0         0       0   \n",
      "29      0            0         0           0           0         0       0   \n",
      "..    ...          ...       ...         ...         ...       ...     ...   \n",
      "329     0            0         0           0           0         0       0   \n",
      "330     0            0         0           0           0         0       0   \n",
      "331     0            0         0           0           0         0       0   \n",
      "332     0            0         0           0           0         0       0   \n",
      "333     0            0         0           0           0         0       0   \n",
      "334     0            0         0           0           0         0       0   \n",
      "335     0            0         0           0           0         0       0   \n",
      "336     0            0         0           0           0         0       0   \n",
      "337     0            0         0           0           0         0       0   \n",
      "338     0            0         0           0           0         0       0   \n",
      "339     0            0         0           0           0         0       0   \n",
      "340     0            0         0           0           0         0       0   \n",
      "341     0            0         0           0           0         0       0   \n",
      "342     0            0         0           0           0         0       0   \n",
      "343     0            0         0           0           0         0       0   \n",
      "344     0            0         0           0           0         0       0   \n",
      "345     0            0         0           0           0         0       0   \n",
      "346     0            0         0           0           0         0       0   \n",
      "347     0            0         0           0           0         0       0   \n",
      "348     0            0         0           0           0         0       0   \n",
      "349     0            0         0           0           0         0       0   \n",
      "350     0            0         0           0           0         0       0   \n",
      "351     0            0         0           0           0         0       0   \n",
      "352     0            0         0           0           0         0       0   \n",
      "353     0            0         0           0           0         0       0   \n",
      "354     0            0         0           0           0         0       0   \n",
      "355     0            0         0           0           0         0       0   \n",
      "356     0            0         0           0           0         0       0   \n",
      "357     0            0         0           0           0         0       0   \n",
      "358     0            0         0           0           0         0       0   \n",
      "\n",
      "     actually  add  added  ...  ya  year  years  yes  yessiree  yesterday  \\\n",
      "0           0    0      0  ...   0     0      0    0         0          0   \n",
      "1           0    0      0  ...   0     0      0    0         0          0   \n",
      "2           0    0      1  ...   0     0      0    0         0          0   \n",
      "3           0    0      0  ...   0     0      0    0         0          0   \n",
      "4           0    0      0  ...   0     0      0    0         0          0   \n",
      "5           0    0      0  ...   0     0      0    0         0          0   \n",
      "6           0    0      0  ...   0     0      0    0         0          0   \n",
      "7           0    0      0  ...   0     0      0    0         0          0   \n",
      "8           0    0      0  ...   0     0      0    0         0          0   \n",
      "9           0    0      0  ...   0     0      0    0         0          0   \n",
      "10          0    0      0  ...   0     0      0    0         0          0   \n",
      "11          0    0      0  ...   0     0      0    0         0          0   \n",
      "12          0    0      0  ...   0     0      0    1         0          0   \n",
      "13          0    0      0  ...   0     0      0    0         0          0   \n",
      "14          0    0      0  ...   0     0      0    0         0          0   \n",
      "15          0    0      0  ...   0     0      0    0         0          0   \n",
      "16          0    0      0  ...   0     0      0    0         0          0   \n",
      "17          0    0      0  ...   0     0      0    0         0          0   \n",
      "18          0    0      0  ...   0     0      0    0         0          0   \n",
      "19          0    0      0  ...   0     0      0    0         0          0   \n",
      "20          0    0      0  ...   0     0      0    0         0          0   \n",
      "21          1    0      0  ...   0     0      0    0         0          0   \n",
      "22          0    0      0  ...   0     0      0    0         0          0   \n",
      "23          0    0      1  ...   0     0      0    0         0          0   \n",
      "24          0    1      0  ...   0     0      0    0         0          0   \n",
      "25          0    0      0  ...   0     0      0    0         0          0   \n",
      "26          0    0      0  ...   0     0      0    0         0          0   \n",
      "27          0    0      0  ...   0     0      0    0         0          0   \n",
      "28          0    0      0  ...   0     0      0    0         0          0   \n",
      "29          0    0      0  ...   0     0      0    0         0          0   \n",
      "..        ...  ...    ...  ...  ..   ...    ...  ...       ...        ...   \n",
      "329         0    0      0  ...   0     0      0    0         0          1   \n",
      "330         0    0      0  ...   0     0      0    0         0          0   \n",
      "331         0    0      1  ...   0     0      0    0         0          0   \n",
      "332         0    0      0  ...   0     0      0    0         0          0   \n",
      "333         0    0      0  ...   0     0      0    1         0          0   \n",
      "334         0    0      0  ...   0     0      0    1         0          0   \n",
      "335         0    0      0  ...   0     0      0    0         0          0   \n",
      "336         0    0      0  ...   0     0      0    0         0          0   \n",
      "337         0    0      0  ...   0     0      0    0         0          0   \n",
      "338         0    0      0  ...   0     0      0    0         0          0   \n",
      "339         0    0      0  ...   0     0      0    0         0          0   \n",
      "340         0    0      1  ...   0     0      0    0         0          0   \n",
      "341         0    1      0  ...   0     0      0    0         0          0   \n",
      "342         0    0      0  ...   0     0      0    0         0          0   \n",
      "343         0    0      0  ...   0     0      0    0         0          0   \n",
      "344         0    0      0  ...   0     0      0    0         0          0   \n",
      "345         0    0      0  ...   0     0      0    0         0          0   \n",
      "346         0    0      0  ...   0     0      0    0         0          0   \n",
      "347         0    0      0  ...   0     0      0    0         0          0   \n",
      "348         0    0      0  ...   0     0      0    0         0          0   \n",
      "349         0    0      0  ...   0     0      0    0         0          0   \n",
      "350         0    0      0  ...   0     0      0    0         0          0   \n",
      "351         0    0      0  ...   0     0      0    0         0          0   \n",
      "352         0    0      0  ...   0     0      0    0         0          0   \n",
      "353         0    0      0  ...   0     0      0    0         0          0   \n",
      "354         0    0      0  ...   0     0      0    0         0          0   \n",
      "355         0    0      0  ...   0     0      0    0         0          0   \n",
      "356         0    0      0  ...   0     0      0    0         0          0   \n",
      "357         0    0      0  ...   0     0      0    0         0          0   \n",
      "358         0    0      0  ...   0     0      0    0         0          0   \n",
      "\n",
      "     york  yuck  yum  yummy  \n",
      "0       0     0    0      0  \n",
      "1       0     0    0      0  \n",
      "2       0     0    0      0  \n",
      "3       0     0    0      0  \n",
      "4       0     0    0      0  \n",
      "5       0     0    0      0  \n",
      "6       0     0    0      0  \n",
      "7       0     0    0      0  \n",
      "8       0     0    0      0  \n",
      "9       0     0    0      0  \n",
      "10      0     0    0      0  \n",
      "11      0     0    0      0  \n",
      "12      0     0    0      0  \n",
      "13      0     1    0      0  \n",
      "14      0     0    0      0  \n",
      "15      0     0    0      0  \n",
      "16      0     0    0      0  \n",
      "17      0     0    0      0  \n",
      "18      0     0    0      0  \n",
      "19      0     0    0      0  \n",
      "20      0     0    0      1  \n",
      "21      0     0    0      0  \n",
      "22      0     0    0      0  \n",
      "23      0     0    0      0  \n",
      "24      0     0    0      0  \n",
      "25      0     0    0      0  \n",
      "26      0     0    0      2  \n",
      "27      0     0    0      0  \n",
      "28      0     0    1      0  \n",
      "29      0     0    0      0  \n",
      "..    ...   ...  ...    ...  \n",
      "329     0     0    0      0  \n",
      "330     0     0    0      0  \n",
      "331     0     0    0      0  \n",
      "332     0     0    0      0  \n",
      "333     0     0    0      0  \n",
      "334     0     0    0      0  \n",
      "335     0     0    0      0  \n",
      "336     0     0    0      0  \n",
      "337     0     0    0      0  \n",
      "338     0     0    0      0  \n",
      "339     0     0    0      0  \n",
      "340     0     0    0      0  \n",
      "341     0     0    0      0  \n",
      "342     0     0    0      0  \n",
      "343     0     0    0      0  \n",
      "344     0     0    0      0  \n",
      "345     0     0    0      0  \n",
      "346     0     0    0      0  \n",
      "347     0     0    0      0  \n",
      "348     0     0    0      0  \n",
      "349     0     0    0      0  \n",
      "350     0     0    0      0  \n",
      "351     0     0    0      0  \n",
      "352     0     0    0      0  \n",
      "353     0     0    0      0  \n",
      "354     0     0    0      0  \n",
      "355     0     0    0      0  \n",
      "356     0     0    0      0  \n",
      "357     0     0    0      0  \n",
      "358     0     0    0      0  \n",
      "\n",
      "[359 rows x 1638 columns]\n"
     ]
    }
   ],
   "source": [
    "from sklearn.feature_extraction.text import CountVectorizer\n",
    "count_vectorizer = CountVectorizer(stop_words=\"english\")\n",
    "\n",
    "X_train_transformed = count_vectorizer.fit_transform(X_train)\n",
    "X_test_transformed = count_vectorizer.transform(X_test)\n",
    "\n",
    "print(X_train_transformed.toarray().shape)\n",
    "df = pd.DataFrame(X_train_transformed.toarray(), columns = count_vectorizer.get_feature_names())\n",
    "print(df)"
   ]
  },
  {
   "cell_type": "code",
   "execution_count": 34,
   "metadata": {},
   "outputs": [
    {
     "name": "stdout",
     "output_type": "stream",
     "text": [
      "(359, 7792)\n",
      "     able  able cappuccino  able drink  able finish  able longer  able make  \\\n",
      "0       0                0           0            0            0          0   \n",
      "1       0                0           0            0            0          0   \n",
      "2       0                0           0            0            0          0   \n",
      "3       0                0           0            0            0          0   \n",
      "4       0                0           0            0            0          0   \n",
      "5       0                0           0            0            0          0   \n",
      "6       0                0           0            0            0          0   \n",
      "7       0                0           0            0            0          0   \n",
      "8       0                0           0            0            0          0   \n",
      "9       0                0           0            0            0          0   \n",
      "10      0                0           0            0            0          0   \n",
      "11      0                0           0            0            0          0   \n",
      "12      0                0           0            0            0          0   \n",
      "13      0                0           0            0            0          0   \n",
      "14      0                0           0            0            0          0   \n",
      "15      0                0           0            0            0          0   \n",
      "16      0                0           0            0            0          0   \n",
      "17      0                0           0            0            0          0   \n",
      "18      0                0           0            0            0          0   \n",
      "19      0                0           0            0            0          0   \n",
      "20      0                0           0            0            0          0   \n",
      "21      0                0           0            0            0          0   \n",
      "22      0                0           0            0            0          0   \n",
      "23      0                0           0            0            0          0   \n",
      "24      0                0           0            0            0          0   \n",
      "25      0                0           0            0            0          0   \n",
      "26      0                0           0            0            0          0   \n",
      "27      0                0           0            0            0          0   \n",
      "28      0                0           0            0            0          0   \n",
      "29      0                0           0            0            0          0   \n",
      "..    ...              ...         ...          ...          ...        ...   \n",
      "329     0                0           0            0            0          0   \n",
      "330     0                0           0            0            0          0   \n",
      "331     0                0           0            0            0          0   \n",
      "332     0                0           0            0            0          0   \n",
      "333     0                0           0            0            0          0   \n",
      "334     0                0           0            0            0          0   \n",
      "335     0                0           0            0            0          0   \n",
      "336     0                0           0            0            0          0   \n",
      "337     0                0           0            0            0          0   \n",
      "338     0                0           0            0            0          0   \n",
      "339     0                0           0            0            0          0   \n",
      "340     0                0           0            0            0          0   \n",
      "341     0                0           0            0            0          0   \n",
      "342     0                0           0            0            0          0   \n",
      "343     0                0           0            0            0          0   \n",
      "344     0                0           0            0            0          0   \n",
      "345     0                0           0            0            0          0   \n",
      "346     0                0           0            0            0          0   \n",
      "347     0                0           0            0            0          0   \n",
      "348     0                0           0            0            0          0   \n",
      "349     0                0           0            0            0          0   \n",
      "350     0                0           0            0            0          0   \n",
      "351     0                0           0            0            0          0   \n",
      "352     0                0           0            0            0          0   \n",
      "353     0                0           0            0            0          0   \n",
      "354     0                0           0            0            0          0   \n",
      "355     0                0           0            0            0          0   \n",
      "356     0                0           0            0            0          0   \n",
      "357     0                0           0            0            0          0   \n",
      "358     0                0           0            0            0          0   \n",
      "\n",
      "     able return  able switch  abomination  abomination bet  ...  yummy gas  \\\n",
      "0              0            0            0                0  ...          0   \n",
      "1              0            0            0                0  ...          0   \n",
      "2              0            0            0                0  ...          0   \n",
      "3              0            0            0                0  ...          0   \n",
      "4              0            0            0                0  ...          0   \n",
      "5              0            0            0                0  ...          0   \n",
      "6              0            0            0                0  ...          0   \n",
      "7              0            0            0                0  ...          0   \n",
      "8              0            0            0                0  ...          0   \n",
      "9              0            0            0                0  ...          0   \n",
      "10             0            0            0                0  ...          0   \n",
      "11             0            0            0                0  ...          0   \n",
      "12             0            0            0                0  ...          0   \n",
      "13             0            0            0                0  ...          0   \n",
      "14             0            0            0                0  ...          0   \n",
      "15             0            0            0                0  ...          0   \n",
      "16             0            0            0                0  ...          0   \n",
      "17             0            0            0                0  ...          0   \n",
      "18             0            0            0                0  ...          0   \n",
      "19             0            0            0                0  ...          0   \n",
      "20             0            0            0                0  ...          0   \n",
      "21             0            0            0                0  ...          0   \n",
      "22             0            0            0                0  ...          0   \n",
      "23             0            0            0                0  ...          0   \n",
      "24             0            0            0                0  ...          0   \n",
      "25             0            0            0                0  ...          0   \n",
      "26             0            0            0                0  ...          0   \n",
      "27             0            0            0                0  ...          0   \n",
      "28             0            0            0                0  ...          0   \n",
      "29             0            0            0                0  ...          0   \n",
      "..           ...          ...          ...              ...  ...        ...   \n",
      "329            0            0            0                0  ...          0   \n",
      "330            0            0            0                0  ...          0   \n",
      "331            0            0            0                0  ...          0   \n",
      "332            0            0            0                0  ...          0   \n",
      "333            0            0            0                0  ...          0   \n",
      "334            0            0            0                0  ...          0   \n",
      "335            0            0            0                0  ...          0   \n",
      "336            0            0            0                0  ...          0   \n",
      "337            0            0            0                0  ...          0   \n",
      "338            0            0            0                0  ...          0   \n",
      "339            0            0            0                0  ...          0   \n",
      "340            0            0            0                0  ...          0   \n",
      "341            0            0            0                0  ...          0   \n",
      "342            0            0            0                0  ...          0   \n",
      "343            0            0            0                0  ...          0   \n",
      "344            0            0            0                0  ...          0   \n",
      "345            0            0            0                0  ...          0   \n",
      "346            0            0            0                0  ...          0   \n",
      "347            0            0            0                0  ...          0   \n",
      "348            0            0            0                0  ...          0   \n",
      "349            0            0            0                0  ...          0   \n",
      "350            0            0            0                0  ...          0   \n",
      "351            0            0            0                0  ...          0   \n",
      "352            0            0            0                0  ...          0   \n",
      "353            0            0            0                0  ...          0   \n",
      "354            0            0            0                0  ...          0   \n",
      "355            0            0            0                0  ...          0   \n",
      "356            0            0            0                0  ...          0   \n",
      "357            0            0            0                0  ...          0   \n",
      "358            0            0            0                0  ...          0   \n",
      "\n",
      "     yummy great  yummy kuerig  yummy perfect  yummy price  yummy run  \\\n",
      "0              0             0              0            0          0   \n",
      "1              0             0              0            0          0   \n",
      "2              0             0              0            0          0   \n",
      "3              0             0              0            0          0   \n",
      "4              0             0              0            0          0   \n",
      "5              0             0              0            0          0   \n",
      "6              0             0              0            0          0   \n",
      "7              0             0              0            0          0   \n",
      "8              0             0              0            0          0   \n",
      "9              0             0              0            0          0   \n",
      "10             0             0              0            0          0   \n",
      "11             0             0              0            0          0   \n",
      "12             0             0              0            0          0   \n",
      "13             0             0              0            0          0   \n",
      "14             0             0              0            0          0   \n",
      "15             0             0              0            0          0   \n",
      "16             0             0              0            0          0   \n",
      "17             0             0              0            0          0   \n",
      "18             0             0              0            0          0   \n",
      "19             0             0              0            0          0   \n",
      "20             1             0              0            0          0   \n",
      "21             0             0              0            0          0   \n",
      "22             0             0              0            0          0   \n",
      "23             0             0              0            0          0   \n",
      "24             0             0              0            0          0   \n",
      "25             0             0              0            0          0   \n",
      "26             0             0              1            1          0   \n",
      "27             0             0              0            0          0   \n",
      "28             0             0              0            0          0   \n",
      "29             0             0              0            0          0   \n",
      "..           ...           ...            ...          ...        ...   \n",
      "329            0             0              0            0          0   \n",
      "330            0             0              0            0          0   \n",
      "331            0             0              0            0          0   \n",
      "332            0             0              0            0          0   \n",
      "333            0             0              0            0          0   \n",
      "334            0             0              0            0          0   \n",
      "335            0             0              0            0          0   \n",
      "336            0             0              0            0          0   \n",
      "337            0             0              0            0          0   \n",
      "338            0             0              0            0          0   \n",
      "339            0             0              0            0          0   \n",
      "340            0             0              0            0          0   \n",
      "341            0             0              0            0          0   \n",
      "342            0             0              0            0          0   \n",
      "343            0             0              0            0          0   \n",
      "344            0             0              0            0          0   \n",
      "345            0             0              0            0          0   \n",
      "346            0             0              0            0          0   \n",
      "347            0             0              0            0          0   \n",
      "348            0             0              0            0          0   \n",
      "349            0             0              0            0          0   \n",
      "350            0             0              0            0          0   \n",
      "351            0             0              0            0          0   \n",
      "352            0             0              0            0          0   \n",
      "353            0             0              0            0          0   \n",
      "354            0             0              0            0          0   \n",
      "355            0             0              0            0          0   \n",
      "356            0             0              0            0          0   \n",
      "357            0             0              0            0          0   \n",
      "358            0             0              0            0          0   \n",
      "\n",
      "     yummy strong  yummy suitable  yummy treat  yummy won  \n",
      "0               0               0            0          0  \n",
      "1               0               0            0          0  \n",
      "2               0               0            0          0  \n",
      "3               0               0            0          0  \n",
      "4               0               0            0          0  \n",
      "5               0               0            0          0  \n",
      "6               0               0            0          0  \n",
      "7               0               0            0          0  \n",
      "8               0               0            0          0  \n",
      "9               0               0            0          0  \n",
      "10              0               0            0          0  \n",
      "11              0               0            0          0  \n",
      "12              0               0            0          0  \n",
      "13              0               0            0          0  \n",
      "14              0               0            0          0  \n",
      "15              0               0            0          0  \n",
      "16              0               0            0          0  \n",
      "17              0               0            0          0  \n",
      "18              0               0            0          0  \n",
      "19              0               0            0          0  \n",
      "20              0               0            0          0  \n",
      "21              0               0            0          0  \n",
      "22              0               0            0          0  \n",
      "23              0               0            0          0  \n",
      "24              0               0            0          0  \n",
      "25              0               0            0          0  \n",
      "26              0               0            0          0  \n",
      "27              0               0            0          0  \n",
      "28              0               0            0          0  \n",
      "29              0               0            0          0  \n",
      "..            ...             ...          ...        ...  \n",
      "329             0               0            0          0  \n",
      "330             0               0            0          0  \n",
      "331             0               0            0          0  \n",
      "332             0               0            0          0  \n",
      "333             0               0            0          0  \n",
      "334             0               0            0          0  \n",
      "335             0               0            0          0  \n",
      "336             0               0            0          0  \n",
      "337             0               0            0          0  \n",
      "338             0               0            0          0  \n",
      "339             0               0            0          0  \n",
      "340             0               0            0          0  \n",
      "341             0               0            0          0  \n",
      "342             0               0            0          0  \n",
      "343             0               0            0          0  \n",
      "344             0               0            0          0  \n",
      "345             0               0            0          0  \n",
      "346             0               0            0          0  \n",
      "347             0               0            0          0  \n",
      "348             0               0            0          0  \n",
      "349             0               0            0          0  \n",
      "350             0               0            0          0  \n",
      "351             0               0            0          0  \n",
      "352             0               0            0          0  \n",
      "353             0               0            0          0  \n",
      "354             0               0            0          0  \n",
      "355             0               0            0          0  \n",
      "356             0               0            0          0  \n",
      "357             0               0            0          0  \n",
      "358             0               0            0          0  \n",
      "\n",
      "[359 rows x 7792 columns]\n"
     ]
    }
   ],
   "source": [
    "X_train2, X_test2, y_train2, y_test2 = train_test_split(X, y, test_size=0.3, random_state=42)\n",
    "count_vectorizer2 = CountVectorizer(ngram_range=(1, 2), stop_words=\"english\")\n",
    "\n",
    "X_train2_transformed = count_vectorizer2.fit_transform(X_train2)\n",
    "X_test2_transformed = count_vectorizer2.transform(X_test2)\n",
    "\n",
    "print(X_train2_transformed.toarray().shape)\n",
    "df2 = pd.DataFrame(X_train2_transformed.toarray(), columns = count_vectorizer2.get_feature_names())\n",
    "print(df2)"
   ]
  },
  {
   "cell_type": "markdown",
   "metadata": {},
   "source": [
    "## Question 3 ##"
   ]
  },
  {
   "cell_type": "markdown",
   "metadata": {},
   "source": [
    "Use Logistic Regression to classify reviews as positive or negative. Do this for both matrices.\n",
    "* Fit a Logistic Regression model on the training data\n",
    "* Apply the model on the test data and calculate the following error metrics: accuracy, precision, recall, F1 score\n",
    "* Optional: Visualize the confusion matrix for both models\n",
    "* Compare the error metrics of the two matrices\n",
    "\n",
    "Recommendation: Create a function to calculate the error metrics, since you'll be doing this multiple times."
   ]
  },
  {
   "cell_type": "code",
   "execution_count": 36,
   "metadata": {},
   "outputs": [
    {
     "data": {
      "text/plain": [
       "array(['positive', 'positive', 'positive', 'positive', 'negative',\n",
       "       'positive', 'positive', 'positive', 'positive', 'positive',\n",
       "       'positive', 'positive', 'positive', 'positive', 'positive',\n",
       "       'positive', 'positive', 'positive', 'positive', 'negative',\n",
       "       'positive', 'positive', 'positive', 'positive', 'positive',\n",
       "       'negative', 'positive', 'positive', 'negative', 'positive',\n",
       "       'positive', 'positive', 'positive', 'positive', 'positive',\n",
       "       'positive', 'negative', 'positive', 'positive', 'positive',\n",
       "       'negative', 'positive', 'positive', 'negative', 'negative',\n",
       "       'positive', 'negative', 'negative', 'positive', 'positive',\n",
       "       'positive', 'positive', 'positive', 'negative', 'positive',\n",
       "       'positive', 'positive', 'positive', 'positive', 'positive',\n",
       "       'positive', 'positive', 'positive', 'positive', 'positive',\n",
       "       'positive', 'positive', 'positive', 'negative', 'negative',\n",
       "       'negative', 'positive', 'positive', 'negative', 'positive',\n",
       "       'negative', 'positive', 'positive', 'positive', 'positive',\n",
       "       'positive', 'positive', 'positive', 'positive', 'positive',\n",
       "       'negative', 'negative', 'positive', 'positive', 'positive',\n",
       "       'positive', 'negative', 'positive', 'positive', 'positive',\n",
       "       'positive', 'positive', 'positive', 'positive', 'positive',\n",
       "       'positive', 'positive', 'positive', 'negative', 'positive',\n",
       "       'positive', 'negative', 'positive', 'positive', 'positive',\n",
       "       'negative', 'positive', 'positive', 'positive', 'positive',\n",
       "       'negative', 'positive', 'positive', 'positive', 'positive',\n",
       "       'negative', 'positive', 'negative', 'positive', 'positive',\n",
       "       'positive', 'negative', 'positive', 'negative', 'negative',\n",
       "       'positive', 'positive', 'positive', 'positive', 'positive',\n",
       "       'positive', 'negative', 'negative', 'positive', 'positive',\n",
       "       'positive', 'positive', 'positive', 'positive', 'positive',\n",
       "       'positive', 'negative', 'negative', 'positive', 'positive',\n",
       "       'negative', 'positive', 'negative', 'positive', 'negative'],\n",
       "      dtype=object)"
      ]
     },
     "execution_count": 36,
     "metadata": {},
     "output_type": "execute_result"
    }
   ],
   "source": [
    "# Logistic Regression model for one gram\n",
    "lr = LogisticRegression()\n",
    "\n",
    "# Training the model\n",
    "lr.fit(X_train_transformed, y_train)\n",
    "\n",
    "# Take the model that was trained on the X_train_transformed data and apply it to the X_test_transformed data\n",
    "y_pred_cv_lr = lr.predict(X_test_transformed)\n",
    "y_pred_cv_lr"
   ]
  },
  {
   "cell_type": "code",
   "execution_count": 37,
   "metadata": {},
   "outputs": [
    {
     "name": "stdout",
     "output_type": "stream",
     "text": [
      "Accuracy: 0.865\n",
      "Precision: 0.9\n",
      "Recall: 0.923\n",
      "F1 Score: 0.911\n"
     ]
    },
    {
     "data": {
      "image/png": "[encoded data removed]",
      "text/plain": [
       "<Figure size 432x288 with 2 Axes>"
      ]
     },
     "metadata": {
      "needs_background": "light"
     },
     "output_type": "display_data"
    }
   ],
   "source": [
    "%matplotlib inline\n",
    "cm = confusion_matrix(y_test, y_pred_cv_lr)\n",
    "sns.heatmap(cm, xticklabels=['predicted_negative', 'predicted_positive'], yticklabels=['actual_negative', 'actual_positive'], annot=True, fmt='d', annot_kws={'fontsize':20}, cmap=\"YlGnBu\");\n",
    "true_neg, false_pos = cm[0]\n",
    "false_neg, true_pos = cm[1]\n",
    "accuracy = round(float((true_pos + true_neg)) / (true_pos + true_neg + false_pos + false_neg),3)\n",
    "precision = round(float((true_pos)) / (true_pos + false_pos),3)\n",
    "recall = round(float((true_pos)) / (true_pos + false_neg),3)\n",
    "f1 = round(2 * (precision * recall) / (precision + recall),3)\n",
    "print('Accuracy: {}'.format(accuracy))\n",
    "print('Precision: {}'.format(precision))\n",
    "print('Recall: {}'.format(recall))\n",
    "print('F1 Score: {}'.format(f1))"
   ]
  },
  {
   "cell_type": "code",
   "execution_count": 38,
   "metadata": {},
   "outputs": [
    {
     "data": {
      "text/plain": [
       "array(['positive', 'positive', 'positive', 'positive', 'negative',\n",
       "       'positive', 'positive', 'positive', 'positive', 'positive',\n",
       "       'positive', 'positive', 'positive', 'positive', 'positive',\n",
       "       'positive', 'positive', 'positive', 'positive', 'negative',\n",
       "       'positive', 'positive', 'positive', 'positive', 'positive',\n",
       "       'negative', 'positive', 'positive', 'positive', 'positive',\n",
       "       'positive', 'positive', 'positive', 'positive', 'positive',\n",
       "       'positive', 'negative', 'positive', 'positive', 'positive',\n",
       "       'negative', 'positive', 'positive', 'negative', 'negative',\n",
       "       'positive', 'negative', 'negative', 'positive', 'positive',\n",
       "       'positive', 'positive', 'positive', 'negative', 'positive',\n",
       "       'positive', 'positive', 'positive', 'positive', 'positive',\n",
       "       'positive', 'positive', 'positive', 'positive', 'positive',\n",
       "       'positive', 'positive', 'positive', 'negative', 'negative',\n",
       "       'negative', 'positive', 'positive', 'negative', 'positive',\n",
       "       'negative', 'positive', 'positive', 'positive', 'positive',\n",
       "       'positive', 'positive', 'negative', 'positive', 'positive',\n",
       "       'negative', 'negative', 'positive', 'positive', 'positive',\n",
       "       'positive', 'negative', 'positive', 'positive', 'positive',\n",
       "       'positive', 'positive', 'positive', 'positive', 'positive',\n",
       "       'positive', 'positive', 'positive', 'negative', 'positive',\n",
       "       'positive', 'negative', 'positive', 'positive', 'positive',\n",
       "       'positive', 'positive', 'positive', 'positive', 'positive',\n",
       "       'negative', 'positive', 'positive', 'positive', 'positive',\n",
       "       'positive', 'positive', 'negative', 'positive', 'positive',\n",
       "       'positive', 'negative', 'positive', 'negative', 'negative',\n",
       "       'positive', 'positive', 'positive', 'positive', 'positive',\n",
       "       'positive', 'negative', 'negative', 'positive', 'positive',\n",
       "       'positive', 'positive', 'positive', 'positive', 'positive',\n",
       "       'positive', 'negative', 'negative', 'positive', 'positive',\n",
       "       'negative', 'positive', 'negative', 'positive', 'negative'],\n",
       "      dtype=object)"
      ]
     },
     "execution_count": 38,
     "metadata": {},
     "output_type": "execute_result"
    }
   ],
   "source": [
    "# Logistic Regression model for bi grams\n",
    "lr2 = LogisticRegression()\n",
    "\n",
    "# Training the model\n",
    "lr2.fit(X_train2_transformed, y_train2)\n",
    "\n",
    "# Take the model that was trained on the X_train_transformed data and apply it to the X_test_transformed data\n",
    "y_pred2_cv_lr = lr2.predict(X_test2_transformed)\n",
    "y_pred2_cv_lr"
   ]
  },
  {
   "cell_type": "code",
   "execution_count": 39,
   "metadata": {},
   "outputs": [
    {
     "name": "stdout",
     "output_type": "stream",
     "text": [
      "Accuracy: 0.865\n",
      "Precision: 0.893\n",
      "Recall: 0.932\n",
      "F1 Score: 0.912\n"
     ]
    },
    {
     "data": {
      "image/png": "[encoded data removed]",
      "text/plain": [
       "<Figure size 432x288 with 2 Axes>"
      ]
     },
     "metadata": {
      "needs_background": "light"
     },
     "output_type": "display_data"
    }
   ],
   "source": [
    "%matplotlib inline\n",
    "cm2 = confusion_matrix(y_test2, y_pred2_cv_lr)\n",
    "sns.heatmap(cm2, xticklabels=['predicted_negative', 'predicted_positive'], yticklabels=['actual_negative', 'actual_positive'], annot=True, fmt='d', annot_kws={'fontsize':20}, cmap=\"YlGnBu\");\n",
    "true_neg, false_pos = cm2[0]\n",
    "false_neg, true_pos = cm2[1]\n",
    "accuracy = round(float((true_pos + true_neg)) / (true_pos + true_neg + false_pos + false_neg),3)\n",
    "precision = round(float((true_pos)) / (true_pos + false_pos),3)\n",
    "recall = round(float((true_pos)) / (true_pos + false_neg),3)\n",
    "f1 = round(2 * (precision * recall) / (precision + recall),3)\n",
    "print('Accuracy: {}'.format(accuracy))\n",
    "print('Precision: {}'.format(precision))\n",
    "print('Recall: {}'.format(recall))\n",
    "print('F1 Score: {}'.format(f1))"
   ]
  },
  {
   "cell_type": "markdown",
   "metadata": {},
   "source": [
    "## Question 4 ##"
   ]
  },
  {
   "cell_type": "markdown",
   "metadata": {
    "collapsed": true
   },
   "source": [
    "Let's try using another machine learning technique to classify these reviews as positive or negative. Go through the exact same exercise in the previous step, except this time, use Naive Bayes instead of Logistic Regression.\n",
    "\n",
    "For count data, use [Multinomial Naive Bayes](http://scikit-learn.org/stable/modules/generated/sklearn.naive_bayes.MultinomialNB.html#sklearn.naive_bayes.MultinomialNB). For binary data, use [Bernoulli Naive Bayes](http://scikit-learn.org/stable/modules/generated/sklearn.naive_bayes.BernoulliNB.html#sklearn.naive_bayes.BernoulliNB).\n",
    "\n",
    "Compare the results of both the Logistic Regression and Naive Bayes models."
   ]
  },
  {
   "cell_type": "code",
   "execution_count": 43,
   "metadata": {},
   "outputs": [
    {
     "data": {
      "text/plain": [
       "array(['positive', 'positive', 'positive', 'positive', 'negative',\n",
       "       'positive', 'negative', 'positive', 'positive', 'positive',\n",
       "       'negative', 'positive', 'positive', 'positive', 'positive',\n",
       "       'positive', 'positive', 'positive', 'positive', 'negative',\n",
       "       'positive', 'positive', 'positive', 'negative', 'positive',\n",
       "       'positive', 'positive', 'positive', 'positive', 'positive',\n",
       "       'positive', 'positive', 'positive', 'positive', 'positive',\n",
       "       'positive', 'negative', 'positive', 'positive', 'positive',\n",
       "       'negative', 'positive', 'positive', 'positive', 'negative',\n",
       "       'positive', 'negative', 'negative', 'positive', 'positive',\n",
       "       'positive', 'positive', 'positive', 'negative', 'positive',\n",
       "       'positive', 'positive', 'positive', 'positive', 'positive',\n",
       "       'negative', 'positive', 'positive', 'positive', 'positive',\n",
       "       'positive', 'positive', 'positive', 'positive', 'negative',\n",
       "       'positive', 'negative', 'positive', 'negative', 'positive',\n",
       "       'negative', 'positive', 'positive', 'negative', 'positive',\n",
       "       'positive', 'positive', 'positive', 'positive', 'positive',\n",
       "       'negative', 'negative', 'positive', 'positive', 'positive',\n",
       "       'negative', 'negative', 'positive', 'negative', 'positive',\n",
       "       'positive', 'positive', 'positive', 'positive', 'positive',\n",
       "       'positive', 'positive', 'positive', 'negative', 'positive',\n",
       "       'positive', 'positive', 'positive', 'positive', 'positive',\n",
       "       'negative', 'positive', 'positive', 'positive', 'positive',\n",
       "       'negative', 'positive', 'negative', 'positive', 'positive',\n",
       "       'positive', 'positive', 'positive', 'positive', 'positive',\n",
       "       'positive', 'negative', 'positive', 'negative', 'negative',\n",
       "       'positive', 'positive', 'positive', 'positive', 'positive',\n",
       "       'positive', 'positive', 'negative', 'positive', 'positive',\n",
       "       'positive', 'positive', 'positive', 'positive', 'positive',\n",
       "       'positive', 'negative', 'negative', 'positive', 'positive',\n",
       "       'positive', 'positive', 'negative', 'positive', 'negative'],\n",
       "      dtype='|S8')"
      ]
     },
     "execution_count": 43,
     "metadata": {},
     "output_type": "execute_result"
    }
   ],
   "source": [
    "# Multinomial Naive Bayes model\n",
    "nb = MultinomialNB()\n",
    "\n",
    "# Train the model\n",
    "nb.fit(X_train_transformed, y_train)\n",
    "\n",
    "# Take the model that was trained on the X_train_transformed data and apply it to the X_test_transformed data\n",
    "y_pred_cv_nb = nb.predict(X_test_transformed)\n",
    "y_pred_cv_nb"
   ]
  },
  {
   "cell_type": "code",
   "execution_count": 44,
   "metadata": {},
   "outputs": [
    {
     "name": "stdout",
     "output_type": "stream",
     "text": [
      "Accuracy: 0.884\n",
      "Precision: 0.909\n",
      "Recall: 0.94\n",
      "F1 Score: 0.924\n"
     ]
    },
    {
     "data": {
      "image/png": "[encoded data removed]",
      "text/plain": [
       "<Figure size 432x288 with 2 Axes>"
      ]
     },
     "metadata": {
      "needs_background": "light"
     },
     "output_type": "display_data"
    }
   ],
   "source": [
    "cm_nb = confusion_matrix(y_test, y_pred_cv_nb)\n",
    "sns.heatmap(cm_nb, xticklabels=['predicted_negative', 'predicted_positive'], yticklabels=['actual_negative', 'actual_positive'], annot=True, fmt='d', annot_kws={'fontsize':20}, cmap=\"YlGnBu\");\n",
    "true_neg, false_pos = cm_nb[0]\n",
    "false_neg, true_pos = cm_nb[1]\n",
    "accuracy = round(float((true_pos + true_neg)) / (true_pos + true_neg + false_pos + false_neg),3)\n",
    "precision = round(float((true_pos)) / (true_pos + false_pos),3)\n",
    "recall = round(float((true_pos)) / (true_pos + false_neg),3)\n",
    "f1 = round(2 * (precision * recall) / (precision + recall),3)\n",
    "print('Accuracy: {}'.format(accuracy))\n",
    "print('Precision: {}'.format(precision))\n",
    "print('Recall: {}'.format(recall))\n",
    "print('F1 Score: {}'.format(f1))"
   ]
  },
  {
   "cell_type": "code",
   "execution_count": 45,
   "metadata": {},
   "outputs": [
    {
     "data": {
      "text/plain": [
       "array(['positive', 'positive', 'positive', 'positive', 'positive',\n",
       "       'positive', 'positive', 'positive', 'positive', 'positive',\n",
       "       'positive', 'positive', 'positive', 'positive', 'positive',\n",
       "       'positive', 'positive', 'positive', 'positive', 'positive',\n",
       "       'positive', 'positive', 'positive', 'positive', 'positive',\n",
       "       'positive', 'positive', 'positive', 'positive', 'positive',\n",
       "       'positive', 'positive', 'positive', 'positive', 'positive',\n",
       "       'positive', 'positive', 'positive', 'positive', 'positive',\n",
       "       'positive', 'positive', 'positive', 'positive', 'positive',\n",
       "       'positive', 'positive', 'positive', 'positive', 'positive',\n",
       "       'positive', 'positive', 'positive', 'positive', 'positive',\n",
       "       'positive', 'positive', 'positive', 'positive', 'positive',\n",
       "       'positive', 'positive', 'positive', 'positive', 'positive',\n",
       "       'positive', 'positive', 'positive', 'positive', 'positive',\n",
       "       'positive', 'positive', 'positive', 'positive', 'positive',\n",
       "       'positive', 'positive', 'positive', 'positive', 'positive',\n",
       "       'positive', 'positive', 'positive', 'positive', 'positive',\n",
       "       'positive', 'positive', 'positive', 'positive', 'positive',\n",
       "       'positive', 'positive', 'positive', 'positive', 'positive',\n",
       "       'positive', 'positive', 'positive', 'positive', 'positive',\n",
       "       'positive', 'positive', 'positive', 'positive', 'positive',\n",
       "       'positive', 'positive', 'positive', 'positive', 'positive',\n",
       "       'positive', 'positive', 'positive', 'positive', 'positive',\n",
       "       'positive', 'positive', 'positive', 'positive', 'positive',\n",
       "       'positive', 'positive', 'negative', 'positive', 'positive',\n",
       "       'positive', 'positive', 'positive', 'positive', 'positive',\n",
       "       'positive', 'positive', 'positive', 'positive', 'positive',\n",
       "       'positive', 'positive', 'positive', 'positive', 'positive',\n",
       "       'positive', 'positive', 'positive', 'positive', 'positive',\n",
       "       'positive', 'positive', 'positive', 'positive', 'positive',\n",
       "       'positive', 'positive', 'positive', 'positive', 'positive'],\n",
       "      dtype='|S8')"
      ]
     },
     "execution_count": 45,
     "metadata": {},
     "output_type": "execute_result"
    }
   ],
   "source": [
    "# Bernoulli Naive Bayes model\n",
    "nb2 = BernoulliNB()\n",
    "\n",
    "# Train the model\n",
    "nb2.fit(X_train2_transformed, y_train2)\n",
    "\n",
    "# Take the model that was trained on the X_train_cv data and apply it to the X_test_cv data\n",
    "y_pred2_cv_nb = nb2.predict(X_test2_transformed)\n",
    "y_pred2_cv_nb"
   ]
  },
  {
   "cell_type": "code",
   "execution_count": 46,
   "metadata": {},
   "outputs": [
    {
     "name": "stdout",
     "output_type": "stream",
     "text": [
      "Accuracy: 0.761\n",
      "Precision: 0.76\n",
      "Recall: 1.0\n",
      "F1 Score: 0.864\n"
     ]
    },
    {
     "data": {
      "image/png": "[encoded data removed]",
      "text/plain": [
       "<Figure size 432x288 with 2 Axes>"
      ]
     },
     "metadata": {
      "needs_background": "light"
     },
     "output_type": "display_data"
    }
   ],
   "source": [
    "cm_nb2 = confusion_matrix(y_test2, y_pred2_cv_nb)\n",
    "sns.heatmap(cm_nb2, xticklabels=['predicted_negative', 'predicted_positive'], yticklabels=['actual_negative', 'actual_positive'], annot=True, fmt='d', annot_kws={'fontsize':20}, cmap=\"YlGnBu\");\n",
    "true_neg, false_pos = cm_nb2[0]\n",
    "false_neg, true_pos = cm_nb2[1]\n",
    "accuracy = round(float((true_pos + true_neg)) / (true_pos + true_neg + false_pos + false_neg),3)\n",
    "precision = round(float((true_pos)) / (true_pos + false_pos),3)\n",
    "recall = round(float((true_pos)) / (true_pos + false_neg),3)\n",
    "f1 = round(2 * (precision * recall) / (precision + recall),3)\n",
    "print('Accuracy: {}'.format(accuracy))\n",
    "print('Precision: {}'.format(precision))\n",
    "print('Recall: {}'.format(recall))\n",
    "print('F1 Score: {}'.format(f1))"
   ]
  },
  {
   "cell_type": "markdown",
   "metadata": {},
   "source": [
    "**Comparing all the four models, it appeared to be Multinomial Naive Bayes model with one-grams generates the best result with highest precision and accuracy. Recall values are comparable for the models.\n",
    "\n",
    "**Based on our need or priority for delection criteria, we can put importance on which factor to be considered for selecting a model."
   ]
  },
  {
   "cell_type": "markdown",
   "metadata": {},
   "source": [
    "## Question 5 ##"
   ]
  },
  {
   "cell_type": "markdown",
   "metadata": {},
   "source": [
    "Up to this point, we've been using Count Vectorizer to create document-term matrices to input into the models. For at least one of the four models you've created so far, use TF-IDF Vectorizer instead of Count Vectorizer, and see if it improves the results.\n",
    "\n",
    "Out of all of the models you've created, which model do you think best classifies positive and negative cappuccino cup reviews?"
   ]
  },
  {
   "cell_type": "code",
   "execution_count": 48,
   "metadata": {},
   "outputs": [],
   "source": [
    "X_train3, X_test3, y_train3, y_test3 = train_test_split(X, y, test_size=0.3, random_state=42)\n",
    "tfidf = TfidfVectorizer(stop_words='english')\n",
    "X_train3_tfidf = tfidf.fit_transform(X_train3)\n",
    "X_test3_tfidf = tfidf.transform(X_test3)\n",
    "TF_IDF = pd.DataFrame(X_train3_tfidf.toarray(), columns=tfidf.get_feature_names())"
   ]
  },
  {
   "cell_type": "code",
   "execution_count": 49,
   "metadata": {},
   "outputs": [],
   "source": [
    "LRG = LogisticRegression()\n",
    "LRG.fit(X_train3_tfidf, y_train3)\n",
    "prediction = LRG.predict(X_test3_tfidf)"
   ]
  },
  {
   "cell_type": "code",
   "execution_count": 50,
   "metadata": {},
   "outputs": [
    {
     "name": "stdout",
     "output_type": "stream",
     "text": [
      "Accuracy: 0.845\n",
      "Precision: 0.83\n",
      "Recall: 1.0\n",
      "F1 Score: 0.907\n"
     ]
    },
    {
     "data": {
      "image/png": "[encoded data removed]",
      "text/plain": [
       "<Figure size 432x288 with 2 Axes>"
      ]
     },
     "metadata": {
      "needs_background": "light"
     },
     "output_type": "display_data"
    }
   ],
   "source": [
    "%matplotlib inline\n",
    "cm3 = confusion_matrix(y_test3, prediction)\n",
    "sns.heatmap(cm3, xticklabels=['predicted_negative', 'predicted_positive'], yticklabels=['actual_negative', 'actual_positive'], annot=True, fmt='d', annot_kws={'fontsize':20}, cmap=\"YlGnBu\");\n",
    "true_neg, false_pos = cm3[0]\n",
    "false_neg, true_pos = cm3[1]\n",
    "accuracy = round(float((true_pos + true_neg)) / (true_pos + true_neg + false_pos + false_neg),3)\n",
    "precision = round(float((true_pos)) / (true_pos + false_pos),3)\n",
    "recall = round(float((true_pos)) / (true_pos + false_neg),3)\n",
    "f1 = round(2 * (precision * recall) / (precision + recall),3)\n",
    "print('Accuracy: {}'.format(accuracy))\n",
    "print('Precision: {}'.format(precision))\n",
    "print('Recall: {}'.format(recall))\n",
    "print('F1 Score: {}'.format(f1))"
   ]
  },
  {
   "cell_type": "markdown",
   "metadata": {},
   "source": [
    "**In this particular case, TF-IDF doesn't improve the results. Overall in this case it seems, Multinomial Naive Bayes is the best performing model."
   ]
  }
 ],
 "metadata": {
  "kernelspec": {
   "display_name": "Python 2",
   "language": "python",
   "name": "python2"
  },
  "language_info": {
   "codemirror_mode": {
    "name": "ipython",
    "version": 2
   },
   "file_extension": ".py",
   "mimetype": "text/x-python",
   "name": "python",
   "nbconvert_exporter": "python",
   "pygments_lexer": "ipython2",
   "version": "2.7.16"
  },
  "toc": {
   "colors": {
    "hover_highlight": "#DAA520",
    "navigate_num": "#000000",
    "navigate_text": "#333333",
    "running_highlight": "#FF0000",
    "selected_highlight": "#FFD700",
    "sidebar_border": "#EEEEEE",
    "wrapper_background": "#FFFFFF"
   },
   "moveMenuLeft": true,
   "nav_menu": {
    "height": "120px",
    "width": "252px"
   },
   "navigate_menu": true,
   "number_sections": true,
   "sideBar": true,
   "threshold": 4,
   "toc_cell": false,
   "toc_section_display": "block",
   "toc_window_display": false,
   "widenNotebook": false
  }
 },
 "nbformat": 4,
 "nbformat_minor": 2
}
