{
  "nbformat": 4,
  "nbformat_minor": 0,
  "metadata": {
    "colab": {
      "name": "PythonLoops.ipynb",
      "provenance": [],
      "include_colab_link": true
    },
    "kernelspec": {
      "name": "python3",
      "display_name": "Python 3"
    }
  },
  "cells": [
    {
      "cell_type": "markdown",
      "metadata": {
        "id": "view-in-github",
        "colab_type": "text"
      },
      "source": [
        "<a href=\"https://colab.research.google.com/github/alwaysArijit/literate-statistics/blob/master/PythonLoops.ipynb\" target=\"_parent\"><img src=\"https://colab.research.google.com/assets/colab-badge.svg\" alt=\"Open In Colab\"/></a>"
      ]
    },
    {
      "cell_type": "markdown",
      "metadata": {
        "id": "uhsLVpw78ZzN",
        "colab_type": "text"
      },
      "source": [
        "Guessing a Random Number"
      ]
    },
    {
      "cell_type": "code",
      "metadata": {
        "id": "PP6oQ0G4UIhn",
        "colab_type": "code",
        "colab": {}
      },
      "source": [
        "import random"
      ],
      "execution_count": 0,
      "outputs": []
    },
    {
      "cell_type": "code",
      "metadata": {
        "id": "nkgc1CWEVZ5J",
        "colab_type": "code",
        "colab": {
          "base_uri": "https://localhost:8080/",
          "height": 136
        },
        "outputId": "868942a7-e0e9-453a-8ed1-898bbc747545"
      },
      "source": [
        "limit = 20\n",
        "to_be_guessed = int(n * random.random()) + 1\n",
        "guess = 0\n",
        "while guess != to_be_guessed :\n",
        "  guess = int(input(\"Enter your guess : \"))\n",
        "  if guess == 0 :\n",
        "    print(\"Sorry! You are giving up. You Lost!!\")\n",
        "    break\n",
        "  elif guess > to_be_guessed :\n",
        "    print(\"Guess is too large!!\")\n",
        "  elif guess < to_be_guessed :\n",
        "    print(\"Guess is too small!!\")\n",
        "  else :\n",
        "    print(\"Congratulations!!\")\n",
        "print(\"End of Game\")"
      ],
      "execution_count": 59,
      "outputs": [
        {
          "output_type": "stream",
          "text": [
            "Enter your guess : 10\n",
            "Guess is too large!!\n",
            "Enter your guess : 7\n",
            "Guess is too large!!\n",
            "Enter your guess : 4\n",
            "Congratulations!!\n",
            "End of Game\n"
          ],
          "name": "stdout"
        }
      ]
    },
    {
      "cell_type": "markdown",
      "metadata": {
        "id": "P8Lm9W8S8fvb",
        "colab_type": "text"
      },
      "source": [
        "Factorial"
      ]
    },
    {
      "cell_type": "code",
      "metadata": {
        "id": "2TBrutbOVjlp",
        "colab_type": "code",
        "colab": {
          "base_uri": "https://localhost:8080/",
          "height": 51
        },
        "outputId": "e22b04ff-68aa-4a73-a33b-617146e712ad"
      },
      "source": [
        "num = int(input(\"Enter Number for Factorial Calculation : \"))\n",
        "mult = num\n",
        "result = 1\n",
        "if num < 0 :\n",
        "  print(\"Number must be positive\")\n",
        "else :\n",
        "  while mult > 0 :\n",
        "    result = result * mult\n",
        "    mult = mult - 1\n",
        "  print(\"Factorial of\",num,\"is\",result)"
      ],
      "execution_count": 73,
      "outputs": [
        {
          "output_type": "stream",
          "text": [
            "Enter Number for Factorial Calculation : 6\n",
            "Factorial of 6 is 720\n"
          ],
          "name": "stdout"
        }
      ]
    },
    {
      "cell_type": "code",
      "metadata": {
        "id": "8h5DtsPr0ege",
        "colab_type": "code",
        "colab": {
          "base_uri": "https://localhost:8080/",
          "height": 51
        },
        "outputId": "1f17624b-4dc1-49cf-ef61-5170548ff8c7"
      },
      "source": [
        "num = int(input(\"Enter Number for Factorial Calculation : \"))\n",
        "result = 1\n",
        "if num < 0 :\n",
        "  print(\"Number must be positive\")\n",
        "else :\n",
        "  for mult in range(1,num + 1) :\n",
        "    result = result * mult\n",
        "  print(\"Factorial of\",num,\"is\",result)"
      ],
      "execution_count": 70,
      "outputs": [
        {
          "output_type": "stream",
          "text": [
            "Enter Number for Factorial Calculation : 6\n",
            "Factorial of 6 is 720\n"
          ],
          "name": "stdout"
        }
      ]
    },
    {
      "cell_type": "markdown",
      "metadata": {
        "id": "r6tRMuoC8kQf",
        "colab_type": "text"
      },
      "source": [
        "Pythagorus Numbers"
      ]
    },
    {
      "cell_type": "code",
      "metadata": {
        "id": "w5nVhzO01Jdz",
        "colab_type": "code",
        "colab": {
          "base_uri": "https://localhost:8080/",
          "height": 68
        },
        "outputId": "582b154a-4e31-4455-ab08-6cfcd8171531"
      },
      "source": [
        "num = int(input(\"Enter your range :\"))\n",
        "for a in range(1,num + 1) :\n",
        "  for b in range(a + 1,num + 1) :\n",
        "    for c in range(1,num + 1) :\n",
        "      if (c ** 2) == ((a ** 2) + (b ** 2)) :\n",
        "        print(a,b,c)\n",
        "print(\"That's all I can think of!!\")"
      ],
      "execution_count": 5,
      "outputs": [
        {
          "output_type": "stream",
          "text": [
            "Enter your range :5\n",
            "3 4 5\n",
            "That's all I can think of!!\n"
          ],
          "name": "stdout"
        }
      ]
    }
  ]
}