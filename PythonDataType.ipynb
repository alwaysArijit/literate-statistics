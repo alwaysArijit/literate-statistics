{
  "nbformat": 4,
  "nbformat_minor": 0,
  "metadata": {
    "colab": {
      "name": "DataType.ipynb",
      "provenance": [],
      "collapsed_sections": [],
      "include_colab_link": true
    },
    "kernelspec": {
      "name": "python3",
      "display_name": "Python 3"
    }
  },
  "cells": [
    {
      "cell_type": "markdown",
      "metadata": {
        "id": "view-in-github",
        "colab_type": "text"
      },
      "source": [
        "<a href=\"https://colab.research.google.com/github/alwaysArijit/literate-statistics/blob/master/PythonDataType.ipynb\" target=\"_parent\"><img src=\"https://colab.research.google.com/assets/colab-badge.svg\" alt=\"Open In Colab\"/></a>"
      ]
    },
    {
      "cell_type": "markdown",
      "metadata": {
        "id": "UnyUi7V69Jvo",
        "colab_type": "text"
      },
      "source": [
        " Number Data Type"
      ]
    },
    {
      "cell_type": "code",
      "metadata": {
        "id": "0HcvgSdNlsqr",
        "colab_type": "code",
        "colab": {}
      },
      "source": [
        "a = 10\n",
        "b = 3.14\n",
        "c = 2+3j\n",
        "d = True"
      ],
      "execution_count": 0,
      "outputs": []
    },
    {
      "cell_type": "code",
      "metadata": {
        "id": "2_xcpplfmF_u",
        "colab_type": "code",
        "outputId": "b9771dc0-9da3-4ca7-f327-86fd84dcd5f0",
        "colab": {
          "base_uri": "https://localhost:8080/",
          "height": 85
        }
      },
      "source": [
        "print(type(a))\n",
        "print(type(b))\n",
        "print(type(c))\n",
        "print(type(d))"
      ],
      "execution_count": 0,
      "outputs": [
        {
          "output_type": "stream",
          "text": [
            "<class 'int'>\n",
            "<class 'float'>\n",
            "<class 'complex'>\n",
            "<class 'bool'>\n"
          ],
          "name": "stdout"
        }
      ]
    },
    {
      "cell_type": "markdown",
      "metadata": {
        "id": "-nyPbqHF9Tc0",
        "colab_type": "text"
      },
      "source": [
        "String Data Type"
      ]
    },
    {
      "cell_type": "code",
      "metadata": {
        "id": "DwPDEpBkm7kk",
        "colab_type": "code",
        "colab": {}
      },
      "source": [
        "v1 = 'Hello'\n",
        "v2 = \"Hello\""
      ],
      "execution_count": 0,
      "outputs": []
    },
    {
      "cell_type": "code",
      "metadata": {
        "id": "MHBRfkB3nBT_",
        "colab_type": "code",
        "outputId": "0bb3f42f-c30e-4eaf-9d58-0ea0a14a806e",
        "colab": {
          "base_uri": "https://localhost:8080/",
          "height": 51
        }
      },
      "source": [
        "print(type(v1))\n",
        "print(type(v2))"
      ],
      "execution_count": 0,
      "outputs": [
        {
          "output_type": "stream",
          "text": [
            "<class 'str'>\n",
            "<class 'str'>\n"
          ],
          "name": "stdout"
        }
      ]
    },
    {
      "cell_type": "code",
      "metadata": {
        "id": "njg-x5UvnG9K",
        "colab_type": "code",
        "colab": {}
      },
      "source": [
        "word = \"I will crack Nielsen Interview\""
      ],
      "execution_count": 0,
      "outputs": []
    },
    {
      "cell_type": "code",
      "metadata": {
        "id": "fJX4AdZa4nte",
        "colab_type": "code",
        "colab": {
          "base_uri": "https://localhost:8080/",
          "height": 34
        },
        "outputId": "7c0f02a1-338b-444b-e72e-4cb109eefbee"
      },
      "source": [
        "len(word)"
      ],
      "execution_count": 14,
      "outputs": [
        {
          "output_type": "execute_result",
          "data": {
            "text/plain": [
              "30"
            ]
          },
          "metadata": {
            "tags": []
          },
          "execution_count": 14
        }
      ]
    },
    {
      "cell_type": "code",
      "metadata": {
        "id": "NPI2ZO8N4ttP",
        "colab_type": "code",
        "colab": {
          "base_uri": "https://localhost:8080/",
          "height": 34
        },
        "outputId": "ec0171f5-a333-4201-af55-839c9090dc4b"
      },
      "source": [
        "word[0:30].upper()"
      ],
      "execution_count": 22,
      "outputs": [
        {
          "output_type": "execute_result",
          "data": {
            "text/plain": [
              "'I WILL CRACK NIELSEN INTERVIEW'"
            ]
          },
          "metadata": {
            "tags": []
          },
          "execution_count": 22
        }
      ]
    },
    {
      "cell_type": "markdown",
      "metadata": {
        "id": "I3tiLRJ39ZNq",
        "colab_type": "text"
      },
      "source": [
        "List Data Type"
      ]
    },
    {
      "cell_type": "code",
      "metadata": {
        "id": "yNjtbxFa5Siz",
        "colab_type": "code",
        "colab": {
          "base_uri": "https://localhost:8080/",
          "height": 34
        },
        "outputId": "045d2161-1e97-4bf7-ce5a-6d43c8765380"
      },
      "source": [
        "numlist = [10,20,30,40,50,50]\n",
        "numlist"
      ],
      "execution_count": 37,
      "outputs": [
        {
          "output_type": "execute_result",
          "data": {
            "text/plain": [
              "[10, 20, 30, 40, 50, 50]"
            ]
          },
          "metadata": {
            "tags": []
          },
          "execution_count": 37
        }
      ]
    },
    {
      "cell_type": "code",
      "metadata": {
        "id": "z3_5jksu78Hl",
        "colab_type": "code",
        "colab": {
          "base_uri": "https://localhost:8080/",
          "height": 34
        },
        "outputId": "4fd8e718-b046-4c9d-e3de-8cddcffe2692"
      },
      "source": [
        "numlist.append(60)\n",
        "numlist"
      ],
      "execution_count": 38,
      "outputs": [
        {
          "output_type": "execute_result",
          "data": {
            "text/plain": [
              "[10, 20, 30, 40, 50, 50, 60]"
            ]
          },
          "metadata": {
            "tags": []
          },
          "execution_count": 38
        }
      ]
    },
    {
      "cell_type": "code",
      "metadata": {
        "id": "jGzlHUYr75LQ",
        "colab_type": "code",
        "colab": {
          "base_uri": "https://localhost:8080/",
          "height": 34
        },
        "outputId": "8f9526a4-d360-4598-996f-c1a654ff0c82"
      },
      "source": [
        "numlist.reverse()\n",
        "numlist"
      ],
      "execution_count": 39,
      "outputs": [
        {
          "output_type": "execute_result",
          "data": {
            "text/plain": [
              "[60, 50, 50, 40, 30, 20, 10]"
            ]
          },
          "metadata": {
            "tags": []
          },
          "execution_count": 39
        }
      ]
    },
    {
      "cell_type": "code",
      "metadata": {
        "id": "vQ8SljQ-8yQM",
        "colab_type": "code",
        "colab": {
          "base_uri": "https://localhost:8080/",
          "height": 34
        },
        "outputId": "0399a3e4-fcf9-4915-d40b-6200a264e3fa"
      },
      "source": [
        "numlist.insert(0,70)\n",
        "numlist"
      ],
      "execution_count": 40,
      "outputs": [
        {
          "output_type": "execute_result",
          "data": {
            "text/plain": [
              "[70, 60, 50, 50, 40, 30, 20, 10]"
            ]
          },
          "metadata": {
            "tags": []
          },
          "execution_count": 40
        }
      ]
    },
    {
      "cell_type": "code",
      "metadata": {
        "id": "41QTCCd7ybxM",
        "colab_type": "code",
        "colab": {
          "base_uri": "https://localhost:8080/",
          "height": 34
        },
        "outputId": "56a505eb-169e-485e-e744-d1616fadbdac"
      },
      "source": [
        "numlist.pop(2)\n",
        "numlist"
      ],
      "execution_count": 41,
      "outputs": [
        {
          "output_type": "execute_result",
          "data": {
            "text/plain": [
              "[70, 60, 50, 40, 30, 20, 10]"
            ]
          },
          "metadata": {
            "tags": []
          },
          "execution_count": 41
        }
      ]
    },
    {
      "cell_type": "markdown",
      "metadata": {
        "id": "J6yAOcU__Ub_",
        "colab_type": "text"
      },
      "source": [
        "Dictionary Data Type"
      ]
    },
    {
      "cell_type": "code",
      "metadata": {
        "id": "7cc4kbgD_DUP",
        "colab_type": "code",
        "colab": {
          "base_uri": "https://localhost:8080/",
          "height": 34
        },
        "outputId": "9e45ba4d-8fbc-416f-a2bb-ca2e0f539445"
      },
      "source": [
        "courses = {1 : \"Statistics\",\n",
        "           2 : \"Data Mining\",\n",
        "           'three' : \"Big Data\"}\n",
        "courses"
      ],
      "execution_count": 56,
      "outputs": [
        {
          "output_type": "execute_result",
          "data": {
            "text/plain": [
              "{1: 'Statistics', 2: 'Data Mining', 'three': 'Big Data'}"
            ]
          },
          "metadata": {
            "tags": []
          },
          "execution_count": 56
        }
      ]
    },
    {
      "cell_type": "code",
      "metadata": {
        "id": "p_W07ZImAnCl",
        "colab_type": "code",
        "colab": {
          "base_uri": "https://localhost:8080/",
          "height": 34
        },
        "outputId": "e402b277-8498-41e0-b53d-273a06613c1e"
      },
      "source": [
        "courses['three']"
      ],
      "execution_count": 60,
      "outputs": [
        {
          "output_type": "execute_result",
          "data": {
            "text/plain": [
              "'Big Data'"
            ]
          },
          "metadata": {
            "tags": []
          },
          "execution_count": 60
        }
      ]
    },
    {
      "cell_type": "code",
      "metadata": {
        "id": "x_dJKYi8Aols",
        "colab_type": "code",
        "colab": {
          "base_uri": "https://localhost:8080/",
          "height": 34
        },
        "outputId": "4e56f455-4a9e-4767-a817-c9a9c12a0e0e"
      },
      "source": [
        "courses['four'] = \"Finance\"\n",
        "courses"
      ],
      "execution_count": 58,
      "outputs": [
        {
          "output_type": "execute_result",
          "data": {
            "text/plain": [
              "{1: 'Statistics', 2: 'Data Mining', 'four': 'Finance', 'three': 'Big Data'}"
            ]
          },
          "metadata": {
            "tags": []
          },
          "execution_count": 58
        }
      ]
    },
    {
      "cell_type": "markdown",
      "metadata": {
        "id": "6D-gkOskDlMs",
        "colab_type": "text"
      },
      "source": [
        "Tuple Data Type"
      ]
    },
    {
      "cell_type": "code",
      "metadata": {
        "id": "rRmIVVaWDBNS",
        "colab_type": "code",
        "colab": {
          "base_uri": "https://localhost:8080/",
          "height": 34
        },
        "outputId": "b6e13633-a253-4b02-bc8f-e53dedfa1a92"
      },
      "source": [
        "animals = (10,10,20,30,'tiger','lion','giraffe','tiger')\n",
        "animals"
      ],
      "execution_count": 3,
      "outputs": [
        {
          "output_type": "execute_result",
          "data": {
            "text/plain": [
              "(10, 10, 20, 30, 'tiger', 'lion', 'giraffe', 'tiger')"
            ]
          },
          "metadata": {
            "tags": []
          },
          "execution_count": 3
        }
      ]
    },
    {
      "cell_type": "code",
      "metadata": {
        "id": "d5dlYT9HERvq",
        "colab_type": "code",
        "colab": {
          "base_uri": "https://localhost:8080/",
          "height": 34
        },
        "outputId": "8e84adc6-06c4-4cc6-dad3-7b1d82802839"
      },
      "source": [
        "animals[-1]"
      ],
      "execution_count": 62,
      "outputs": [
        {
          "output_type": "execute_result",
          "data": {
            "text/plain": [
              "'tiger'"
            ]
          },
          "metadata": {
            "tags": []
          },
          "execution_count": 62
        }
      ]
    },
    {
      "cell_type": "code",
      "metadata": {
        "id": "nj34MW9vEUR7",
        "colab_type": "code",
        "colab": {
          "base_uri": "https://localhost:8080/",
          "height": 34
        },
        "outputId": "ea4375e3-66f7-4ae3-b5ad-373636a48bf6"
      },
      "source": [
        "animals.count('tiger')"
      ],
      "execution_count": 63,
      "outputs": [
        {
          "output_type": "execute_result",
          "data": {
            "text/plain": [
              "2"
            ]
          },
          "metadata": {
            "tags": []
          },
          "execution_count": 63
        }
      ]
    },
    {
      "cell_type": "markdown",
      "metadata": {
        "id": "lBZ5j-X_uEGL",
        "colab_type": "text"
      },
      "source": [
        "Set Data Type"
      ]
    },
    {
      "cell_type": "code",
      "metadata": {
        "id": "ofKwAOPjEZBf",
        "colab_type": "code",
        "colab": {
          "base_uri": "https://localhost:8080/",
          "height": 34
        },
        "outputId": "c7741701-2aaf-40b0-c295-1ff0b17a1a8f"
      },
      "source": [
        "myset = {10,10,20,30,'London','Paris','London'}\n",
        "myset"
      ],
      "execution_count": 1,
      "outputs": [
        {
          "output_type": "execute_result",
          "data": {
            "text/plain": [
              "{10, 20, 30, 'London', 'Paris'}"
            ]
          },
          "metadata": {
            "tags": []
          },
          "execution_count": 1
        }
      ]
    },
    {
      "cell_type": "markdown",
      "metadata": {
        "id": "boFhFFyRwpg8",
        "colab_type": "text"
      },
      "source": [
        "Named Tuple Data Type"
      ]
    },
    {
      "cell_type": "code",
      "metadata": {
        "id": "sCcqyyHNuUOb",
        "colab_type": "code",
        "colab": {}
      },
      "source": [
        "from collections import namedtuple"
      ],
      "execution_count": 0,
      "outputs": []
    },
    {
      "cell_type": "code",
      "metadata": {
        "id": "dvAUxIF_wxhN",
        "colab_type": "code",
        "colab": {
          "base_uri": "https://localhost:8080/",
          "height": 34
        },
        "outputId": "b7aaa94e-112a-409f-9a2c-2fa79c6d23e4"
      },
      "source": [
        "a = namedtuple('Course','Name, Technology')\n",
        "s = a('Data Science','Python')\n",
        "s"
      ],
      "execution_count": 33,
      "outputs": [
        {
          "output_type": "execute_result",
          "data": {
            "text/plain": [
              "Course(Name='Data Science', Technology='Python')"
            ]
          },
          "metadata": {
            "tags": []
          },
          "execution_count": 33
        }
      ]
    },
    {
      "cell_type": "code",
      "metadata": {
        "id": "FkeizoZQxEjG",
        "colab_type": "code",
        "colab": {
          "base_uri": "https://localhost:8080/",
          "height": 34
        },
        "outputId": "ccf6066c-da83-4bfb-aed1-ef4faaee4001"
      },
      "source": [
        "s = a._make(['Software Development','Java'])\n",
        "s"
      ],
      "execution_count": 34,
      "outputs": [
        {
          "output_type": "execute_result",
          "data": {
            "text/plain": [
              "Course(Name='Software Development', Technology='Java')"
            ]
          },
          "metadata": {
            "tags": []
          },
          "execution_count": 34
        }
      ]
    },
    {
      "cell_type": "markdown",
      "metadata": {
        "id": "uEXfWGZHHSMH",
        "colab_type": "text"
      },
      "source": [
        "Arrays in Python"
      ]
    },
    {
      "cell_type": "code",
      "metadata": {
        "id": "ExWb296extHO",
        "colab_type": "code",
        "colab": {}
      },
      "source": [
        "import array as arr"
      ],
      "execution_count": 0,
      "outputs": []
    },
    {
      "cell_type": "code",
      "metadata": {
        "id": "rBWKUz1ZHX0Z",
        "colab_type": "code",
        "colab": {
          "base_uri": "https://localhost:8080/",
          "height": 34
        },
        "outputId": "c6fcf248-2827-46fb-9915-94a618b3c413"
      },
      "source": [
        "a = arr.array('i',[1,3,5,7,9])\n",
        "a"
      ],
      "execution_count": 27,
      "outputs": [
        {
          "output_type": "execute_result",
          "data": {
            "text/plain": [
              "array('i', [1, 3, 5, 7, 9])"
            ]
          },
          "metadata": {
            "tags": []
          },
          "execution_count": 27
        }
      ]
    },
    {
      "cell_type": "code",
      "metadata": {
        "id": "5OhaY4GOHrnA",
        "colab_type": "code",
        "colab": {
          "base_uri": "https://localhost:8080/",
          "height": 68
        },
        "outputId": "9443ed90-6e0f-4801-a4e0-8257d9561264"
      },
      "source": [
        "for x in a[1:-1]:\n",
        "  print(x * 5)"
      ],
      "execution_count": 43,
      "outputs": [
        {
          "output_type": "stream",
          "text": [
            "15\n",
            "25\n",
            "35\n"
          ],
          "name": "stdout"
        }
      ]
    },
    {
      "cell_type": "code",
      "metadata": {
        "id": "X1k1BbEZNY0E",
        "colab_type": "code",
        "colab": {
          "base_uri": "https://localhost:8080/",
          "height": 102
        },
        "outputId": "30176ae4-f709-4621-b02f-078fd1dfce73"
      },
      "source": [
        "b = 0\n",
        "while b < len(a):\n",
        "  print(a[b] * 5)\n",
        "  b = b + 1"
      ],
      "execution_count": 44,
      "outputs": [
        {
          "output_type": "stream",
          "text": [
            "5\n",
            "15\n",
            "25\n",
            "35\n",
            "45\n"
          ],
          "name": "stdout"
        }
      ]
    },
    {
      "cell_type": "markdown",
      "metadata": {
        "id": "d1VKsVt5Qsh3",
        "colab_type": "text"
      },
      "source": [
        "Hash Table and Hash Map"
      ]
    },
    {
      "cell_type": "code",
      "metadata": {
        "id": "QGPeUeMQN1VN",
        "colab_type": "code",
        "colab": {
          "base_uri": "https://localhost:8080/",
          "height": 51
        },
        "outputId": "0e901b06-b46f-4162-8b41-4fd6823ff257"
      },
      "source": [
        "my_dict = {'Jasmine':'001','Breaha':'002','Lisbeth':'003'}\n",
        "print(my_dict)\n",
        "type(my_dict)"
      ],
      "execution_count": 19,
      "outputs": [
        {
          "output_type": "stream",
          "text": [
            "{'Jasmine': '001', 'Breaha': '002', 'Lisbeth': '003'}\n"
          ],
          "name": "stdout"
        },
        {
          "output_type": "execute_result",
          "data": {
            "text/plain": [
              "dict"
            ]
          },
          "metadata": {
            "tags": []
          },
          "execution_count": 19
        }
      ]
    },
    {
      "cell_type": "code",
      "metadata": {
        "id": "Dy8OsJPJQyA2",
        "colab_type": "code",
        "colab": {
          "base_uri": "https://localhost:8080/",
          "height": 51
        },
        "outputId": "bef6a80c-02ba-4754-cd5d-148b382ca818"
      },
      "source": [
        "new_dict = dict()\n",
        "print(new_dict)\n",
        "type(new_dict)"
      ],
      "execution_count": 10,
      "outputs": [
        {
          "output_type": "stream",
          "text": [
            "{}\n"
          ],
          "name": "stdout"
        },
        {
          "output_type": "execute_result",
          "data": {
            "text/plain": [
              "dict"
            ]
          },
          "metadata": {
            "tags": []
          },
          "execution_count": 10
        }
      ]
    },
    {
      "cell_type": "code",
      "metadata": {
        "id": "8Wk11pA-RV9N",
        "colab_type": "code",
        "colab": {
          "base_uri": "https://localhost:8080/",
          "height": 34
        },
        "outputId": "0043884e-3ce6-4c6c-b135-9132c85b3ea8"
      },
      "source": [
        "new_dict['Jasmine'] = '001'\n",
        "new_dict['Breaha'] = '002'\n",
        "new_dict['Lisbeth'] = '003'\n",
        "new_dict"
      ],
      "execution_count": 11,
      "outputs": [
        {
          "output_type": "execute_result",
          "data": {
            "text/plain": [
              "{'Breaha': '002', 'Jasmine': '001', 'Lisbeth': '003'}"
            ]
          },
          "metadata": {
            "tags": []
          },
          "execution_count": 11
        }
      ]
    },
    {
      "cell_type": "code",
      "metadata": {
        "id": "nS0D0W9aRjId",
        "colab_type": "code",
        "colab": {
          "base_uri": "https://localhost:8080/",
          "height": 34
        },
        "outputId": "ccb8ff24-782a-4088-902c-1e919187062a"
      },
      "source": [
        "new_dict = dict(Jasmine = '001', Breaha = '002')\n",
        "new_dict"
      ],
      "execution_count": 12,
      "outputs": [
        {
          "output_type": "execute_result",
          "data": {
            "text/plain": [
              "{'Breaha': '002', 'Jasmine': '001'}"
            ]
          },
          "metadata": {
            "tags": []
          },
          "execution_count": 12
        }
      ]
    },
    {
      "cell_type": "code",
      "metadata": {
        "id": "OYLdIgx6SA0b",
        "colab_type": "code",
        "colab": {
          "base_uri": "https://localhost:8080/",
          "height": 51
        },
        "outputId": "4d13b592-37cd-4fba-85fc-dab4d8a36f0b"
      },
      "source": [
        "emp_dict = {'Employees':{'Jasmine':{'Salary':'2000','Designation':'Assistant'},\n",
        "                         'Breaha':{'Salary':'1000','Designation':'Cashier'}}}\n",
        "emp_dict"
      ],
      "execution_count": 13,
      "outputs": [
        {
          "output_type": "execute_result",
          "data": {
            "text/plain": [
              "{'Employees': {'Breaha': {'Designation': 'Cashier', 'Salary': '1000'},\n",
              "  'Jasmine': {'Designation': 'Assistant', 'Salary': '2000'}}}"
            ]
          },
          "metadata": {
            "tags": []
          },
          "execution_count": 13
        }
      ]
    },
    {
      "cell_type": "code",
      "metadata": {
        "id": "oixk0kwO1KhB",
        "colab_type": "code",
        "colab": {
          "base_uri": "https://localhost:8080/",
          "height": 85
        },
        "outputId": "9575f155-1e28-4c88-f081-cb705dc733a1"
      },
      "source": [
        "emp_dict = {'Employees':{'Employee1':{'Name':'Jasmine','Salary':'2000','Designation':'Assistant'},\n",
        "                         'Employee2':{'Name':'Breaha','Salary':'1000','Designation':'Cashier'}}}\n",
        "emp_dict"
      ],
      "execution_count": 30,
      "outputs": [
        {
          "output_type": "execute_result",
          "data": {
            "text/plain": [
              "{'Employees': {'Employee1': {'Designation': 'Assistant',\n",
              "   'Name': 'Jasmine',\n",
              "   'Salary': '2000'},\n",
              "  'Employee2': {'Designation': 'Cashier', 'Name': 'Breaha', 'Salary': '1000'}}}"
            ]
          },
          "metadata": {
            "tags": []
          },
          "execution_count": 30
        }
      ]
    },
    {
      "cell_type": "code",
      "metadata": {
        "id": "MBHC2IWgTR_0",
        "colab_type": "code",
        "colab": {
          "base_uri": "https://localhost:8080/",
          "height": 85
        },
        "outputId": "6ca69e73-d921-4071-bd32-8c5e549ae7d5"
      },
      "source": [
        "print(my_dict['Jasmine'])\n",
        "print(my_dict.get('Breaha'))\n",
        "print(my_dict.keys())\n",
        "print(my_dict.values())"
      ],
      "execution_count": 14,
      "outputs": [
        {
          "output_type": "stream",
          "text": [
            "001\n",
            "002\n",
            "dict_keys(['Jasmine', 'Breaha', 'Lisbeth'])\n",
            "dict_values(['001', '002', '003'])\n"
          ],
          "name": "stdout"
        }
      ]
    },
    {
      "cell_type": "code",
      "metadata": {
        "id": "ad8C9FifVbPD",
        "colab_type": "code",
        "colab": {
          "base_uri": "https://localhost:8080/",
          "height": 34
        },
        "outputId": "52f8fe1c-ee85-41a9-c472-9ef4247e8c07"
      },
      "source": [
        "my_dict['Breaha'] = '001'\n",
        "my_dict['Jasmine'] = '002'\n",
        "my_dict['Alex'] = '004'\n",
        "my_dict"
      ],
      "execution_count": 20,
      "outputs": [
        {
          "output_type": "execute_result",
          "data": {
            "text/plain": [
              "{'Alex': '004', 'Breaha': '001', 'Jasmine': '002', 'Lisbeth': '003'}"
            ]
          },
          "metadata": {
            "tags": []
          },
          "execution_count": 20
        }
      ]
    },
    {
      "cell_type": "code",
      "metadata": {
        "id": "6-33g1rsyI0A",
        "colab_type": "code",
        "colab": {
          "base_uri": "https://localhost:8080/",
          "height": 34
        },
        "outputId": "108e5ece-1fe8-4915-8d41-adf424f38ab8"
      },
      "source": [
        "my_dict.popitem()"
      ],
      "execution_count": 21,
      "outputs": [
        {
          "output_type": "execute_result",
          "data": {
            "text/plain": [
              "('Alex', '004')"
            ]
          },
          "metadata": {
            "tags": []
          },
          "execution_count": 21
        }
      ]
    },
    {
      "cell_type": "code",
      "metadata": {
        "id": "T2PvRTfXy1TI",
        "colab_type": "code",
        "colab": {
          "base_uri": "https://localhost:8080/",
          "height": 34
        },
        "outputId": "f6bb8ac2-3576-4a4d-dc69-764244594367"
      },
      "source": [
        "del my_dict['Lisbeth']\n",
        "my_dict"
      ],
      "execution_count": 22,
      "outputs": [
        {
          "output_type": "execute_result",
          "data": {
            "text/plain": [
              "{'Breaha': '001', 'Jasmine': '002'}"
            ]
          },
          "metadata": {
            "tags": []
          },
          "execution_count": 22
        }
      ]
    },
    {
      "cell_type": "code",
      "metadata": {
        "id": "6Ab673T1y6OK",
        "colab_type": "code",
        "colab": {}
      },
      "source": [
        "import pandas as pd"
      ],
      "execution_count": 0,
      "outputs": []
    },
    {
      "cell_type": "code",
      "metadata": {
        "id": "PQ4pVEaozjfg",
        "colab_type": "code",
        "colab": {
          "base_uri": "https://localhost:8080/",
          "height": 142
        },
        "outputId": "534a2b84-da83-4791-9316-2a45fa581087"
      },
      "source": [
        "df = pd.DataFrame(emp_dict['Employees'])\n",
        "df"
      ],
      "execution_count": 31,
      "outputs": [
        {
          "output_type": "execute_result",
          "data": {
            "text/html": [
              "<div>\n",
              "<style scoped>\n",
              "    .dataframe tbody tr th:only-of-type {\n",
              "        vertical-align: middle;\n",
              "    }\n",
              "\n",
              "    .dataframe tbody tr th {\n",
              "        vertical-align: top;\n",
              "    }\n",
              "\n",
              "    .dataframe thead th {\n",
              "        text-align: right;\n",
              "    }\n",
              "</style>\n",
              "<table border=\"1\" class=\"dataframe\">\n",
              "  <thead>\n",
              "    <tr style=\"text-align: right;\">\n",
              "      <th></th>\n",
              "      <th>Employee1</th>\n",
              "      <th>Employee2</th>\n",
              "    </tr>\n",
              "  </thead>\n",
              "  <tbody>\n",
              "    <tr>\n",
              "      <th>Name</th>\n",
              "      <td>Jasmine</td>\n",
              "      <td>Breaha</td>\n",
              "    </tr>\n",
              "    <tr>\n",
              "      <th>Salary</th>\n",
              "      <td>2000</td>\n",
              "      <td>1000</td>\n",
              "    </tr>\n",
              "    <tr>\n",
              "      <th>Designation</th>\n",
              "      <td>Assistant</td>\n",
              "      <td>Cashier</td>\n",
              "    </tr>\n",
              "  </tbody>\n",
              "</table>\n",
              "</div>"
            ],
            "text/plain": [
              "             Employee1 Employee2\n",
              "Name           Jasmine    Breaha\n",
              "Salary            2000      1000\n",
              "Designation  Assistant   Cashier"
            ]
          },
          "metadata": {
            "tags": []
          },
          "execution_count": 31
        }
      ]
    },
    {
      "cell_type": "code",
      "metadata": {
        "id": "hnaH97uY0GQc",
        "colab_type": "code",
        "colab": {}
      },
      "source": [
        ""
      ],
      "execution_count": 0,
      "outputs": []
    }
  ]
}